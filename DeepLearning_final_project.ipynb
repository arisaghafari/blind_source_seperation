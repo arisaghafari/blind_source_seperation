{
  "cells": [
    {
      "cell_type": "markdown",
      "metadata": {
        "id": "view-in-github",
        "colab_type": "text"
      },
      "source": [
        "<a href=\"https://colab.research.google.com/github/arisaghafari/blind_source_seperation/blob/master/DeepLearning_final_project.ipynb\" target=\"_parent\"><img src=\"https://colab.research.google.com/assets/colab-badge.svg\" alt=\"Open In Colab\"/></a>"
      ]
    },
    {
      "cell_type": "markdown",
      "metadata": {
        "id": "iVA8Dzt4My9v"
      },
      "source": [
        "For this project, I experimented with several models.\n",
        "\n",
        "### **Vision Transformer (ViT):**\n",
        "My first approach was to use a Vision Transformer (ViT) model. I started by splitting the 32×32 grayscale input into small, non-overlapping patches, which were then converted into embeddings. These embeddings were processed through multiple transformer layers, utilizing multi-head self-attention and feed-forward networks. Afterward, the transformed features were reshaped back into a spatial grid and passed through a dual-decoder structure to reconstruct the original image.\n",
        "**While this method incorporated an innovative design, it ultimately did not meet the performance requirements of the project.**"
      ]
    },
    {
      "cell_type": "markdown",
      "metadata": {
        "id": "L-cxXtAlM1Jf"
      },
      "source": [
        "### **Hybrid TransUNet:**\n",
        "To improve the results, I then explored a hybrid TransUNet model. This approach combined the strengths of both convolutional neural networks (CNNs) and transformers. The encoder, following a U-Net structure, extracted multi-scale features using CNN layers, while the bottleneck integrated transformer blocks to capture long-range dependencies. These transformer layers processed reshaped tokens, enriched with positional embeddings, to enhance feature learning. Finally, two parallel decoders worked together to reconstruct the source images.\n",
        "**Although this model aimed to balance local and global contextual understanding, it ultimately did not achieve the desired performance.**"
      ]
    },
    {
      "cell_type": "markdown",
      "metadata": {
        "id": "1JtVn2F1M4Nh"
      },
      "source": [
        "### **U-Net Model**\n",
        "\n",
        "Finally, I implemented a U-Net architecture specifically designed to decompose composite images into their original components. The encoder progressively extracted hierarchical features using convolutional blocks, each followed by max pooling to reduce spatial dimensions while retaining essential information. To preserve fine-grained details, skip connections were used to bridge corresponding layers between the encoder and decoder.\n",
        "\n",
        "At the network’s bottleneck, a convolutional block with 512 filters processed the most compressed representation of the input. From there, two parallel decoders upsampled the features, gradually restoring spatial resolution while integrating information from the encoder via skip connections. This design allowed the model to reconstruct the two separate images with high fidelity. **Among all the methods explored in this project, the U-Net model delivered the best performance, demonstrating its effectiveness in accurately recovering the original components from the composite input.**"
      ]
    },
    {
      "cell_type": "code",
      "execution_count": null,
      "metadata": {
        "id": "wrlTnZCNfnfr"
      },
      "outputs": [],
      "source": [
        "import tensorflow as tf\n",
        "from tensorflow.keras import layers\n",
        "from tensorflow.keras.datasets import mnist, fashion_mnist\n",
        "\n",
        "import numpy as np\n",
        "from matplotlib import pyplot as plt\n",
        "from sklearn.model_selection import train_test_split"
      ]
    },
    {
      "cell_type": "code",
      "execution_count": null,
      "metadata": {
        "colab": {
          "base_uri": "https://localhost:8080/"
        },
        "id": "yRYiW2ipukZF",
        "outputId": "037e4f9d-0bbe-4459-bdb9-0334fca68c3b"
      },
      "outputs": [
        {
          "name": "stdout",
          "output_type": "stream",
          "text": [
            "Downloading data from https://storage.googleapis.com/tensorflow/tf-keras-datasets/mnist.npz\n",
            "\u001b[1m11490434/11490434\u001b[0m \u001b[32m━━━━━━━━━━━━━━━━━━━━\u001b[0m\u001b[37m\u001b[0m \u001b[1m0s\u001b[0m 0us/step\n",
            "(60000, 28, 28)\n",
            "Downloading data from https://storage.googleapis.com/tensorflow/tf-keras-datasets/train-labels-idx1-ubyte.gz\n",
            "\u001b[1m29515/29515\u001b[0m \u001b[32m━━━━━━━━━━━━━━━━━━━━\u001b[0m\u001b[37m\u001b[0m \u001b[1m0s\u001b[0m 0us/step\n",
            "Downloading data from https://storage.googleapis.com/tensorflow/tf-keras-datasets/train-images-idx3-ubyte.gz\n",
            "\u001b[1m26421880/26421880\u001b[0m \u001b[32m━━━━━━━━━━━━━━━━━━━━\u001b[0m\u001b[37m\u001b[0m \u001b[1m0s\u001b[0m 0us/step\n",
            "Downloading data from https://storage.googleapis.com/tensorflow/tf-keras-datasets/t10k-labels-idx1-ubyte.gz\n",
            "\u001b[1m5148/5148\u001b[0m \u001b[32m━━━━━━━━━━━━━━━━━━━━\u001b[0m\u001b[37m\u001b[0m \u001b[1m0s\u001b[0m 1us/step\n",
            "Downloading data from https://storage.googleapis.com/tensorflow/tf-keras-datasets/t10k-images-idx3-ubyte.gz\n",
            "\u001b[1m4422102/4422102\u001b[0m \u001b[32m━━━━━━━━━━━━━━━━━━━━\u001b[0m\u001b[37m\u001b[0m \u001b[1m0s\u001b[0m 0us/step\n",
            "(60000, 32, 32)\n"
          ]
        }
      ],
      "source": [
        "(mnist_x_train, mnist_y_train), (mnist_x_test, mnist_y_test) = mnist.load_data()\n",
        "print(np.shape(mnist_x_train))\n",
        "(fashion_mnist_x_train, fashion_mnist_y_train), (fashion_mnist_x_test, fashion_mnist_y_test) = fashion_mnist.load_data()\n",
        "#normnalize in and pad\n",
        "mnist_x_train = np.pad(mnist_x_train,((0,0),(2,2),(2,2)))/255.\n",
        "print(np.shape(mnist_x_train))\n",
        "mnist_x_test = np.pad(mnist_x_test,((0,0),(2,2),(2,2)))/255.\n",
        "fashion_mnist_x_train = np.pad(fashion_mnist_x_train,((0,0),(2,2),(2,2)))/255.\n",
        "fashion_mnist_x_test = np.pad(fashion_mnist_x_test,((0,0),(2,2),(2,2)))/255."
      ]
    },
    {
      "cell_type": "code",
      "execution_count": null,
      "metadata": {
        "colab": {
          "base_uri": "https://localhost:8080/"
        },
        "id": "WBIWB2a-VGqH",
        "outputId": "02c1280c-6835-4187-c35f-27d717a7cc65"
      },
      "outputs": [
        {
          "name": "stdout",
          "output_type": "stream",
          "text": [
            "(60000, 32, 32)\n"
          ]
        }
      ],
      "source": [
        "print(np.shape(mnist_x_train))"
      ]
    },
    {
      "cell_type": "code",
      "execution_count": null,
      "metadata": {
        "id": "7Y5Zpv5fw2hd"
      },
      "outputs": [],
      "source": [
        "def datagenerator(x1,x2,batchsize):\n",
        "    n1 = x1.shape[0]\n",
        "    n2 = x2.shape[0]\n",
        "    while True:\n",
        "        num1 = np.random.randint(0, n1, batchsize)\n",
        "        num2 = np.random.randint(0, n2, batchsize)\n",
        "\n",
        "        x_data = (x1[num1] + x2[num2]) / 2.0\n",
        "        y_data = (x1[num1], x2[num2])\n",
        "\n",
        "        yield x_data, y_data"
      ]
    },
    {
      "cell_type": "code",
      "execution_count": null,
      "metadata": {
        "id": "dkv8Qc9-wEnf"
      },
      "outputs": [],
      "source": [
        "onegen = datagenerator(mnist_x_test,fashion_mnist_x_test,1)"
      ]
    },
    {
      "cell_type": "code",
      "execution_count": null,
      "metadata": {
        "id": "y0BEm2dhGx30"
      },
      "outputs": [],
      "source": [
        "def show_images(x,y1,y2):\n",
        "    fig, ax = plt.subplots(1,3,figsize=(12,4))\n",
        "    ax[0].imshow(x,cmap='gray')\n",
        "    ax[0].title.set_text('Input')\n",
        "    ax[0].axis('off')\n",
        "    ax[1].imshow(y1,cmap='gray')\n",
        "    ax[1].title.set_text('mnist')\n",
        "    ax[1].axis('off')\n",
        "    ax[2].imshow(y2,cmap='gray')\n",
        "    ax[2].title.set_text('fashion_mnist')\n",
        "    ax[2].axis('off')\n",
        "    plt.show()"
      ]
    },
    {
      "cell_type": "markdown",
      "metadata": {
        "id": "WRxCKEbP8OIj"
      },
      "source": [
        "# **U_Net**"
      ]
    },
    {
      "cell_type": "code",
      "execution_count": null,
      "metadata": {
        "colab": {
          "base_uri": "https://localhost:8080/",
          "height": 1000
        },
        "id": "CtyStYnv8MXG",
        "outputId": "043d3b4e-caf4-4cea-8392-b8b5d7cd818c"
      },
      "outputs": [
        {
          "data": {
            "text/html": [
              "<pre style=\"white-space:pre;overflow-x:auto;line-height:normal;font-family:Menlo,'DejaVu Sans Mono',consolas,'Courier New',monospace\"><span style=\"font-weight: bold\">Model: \"U-Net_Decomposition\"</span>\n",
              "</pre>\n"
            ],
            "text/plain": [
              "\u001b[1mModel: \"U-Net_Decomposition\"\u001b[0m\n"
            ]
          },
          "metadata": {},
          "output_type": "display_data"
        },
        {
          "data": {
            "text/html": [
              "<pre style=\"white-space:pre;overflow-x:auto;line-height:normal;font-family:Menlo,'DejaVu Sans Mono',consolas,'Courier New',monospace\">┏━━━━━━━━━━━━━━━━━━━━━━━━━━━┳━━━━━━━━━━━━━━━━━━━━━━━━┳━━━━━━━━━━━━━━━━┳━━━━━━━━━━━━━━━━━━━━━━━━┓\n",
              "┃<span style=\"font-weight: bold\"> Layer (type)              </span>┃<span style=\"font-weight: bold\"> Output Shape           </span>┃<span style=\"font-weight: bold\">        Param # </span>┃<span style=\"font-weight: bold\"> Connected to           </span>┃\n",
              "┡━━━━━━━━━━━━━━━━━━━━━━━━━━━╇━━━━━━━━━━━━━━━━━━━━━━━━╇━━━━━━━━━━━━━━━━╇━━━━━━━━━━━━━━━━━━━━━━━━┩\n",
              "│ input_layer_2             │ (<span style=\"color: #00d7ff; text-decoration-color: #00d7ff\">None</span>, <span style=\"color: #00af00; text-decoration-color: #00af00\">32</span>, <span style=\"color: #00af00; text-decoration-color: #00af00\">32</span>, <span style=\"color: #00af00; text-decoration-color: #00af00\">1</span>)      │              <span style=\"color: #00af00; text-decoration-color: #00af00\">0</span> │ -                      │\n",
              "│ (<span style=\"color: #0087ff; text-decoration-color: #0087ff\">InputLayer</span>)              │                        │                │                        │\n",
              "├───────────────────────────┼────────────────────────┼────────────────┼────────────────────────┤\n",
              "│ conv2d_28 (<span style=\"color: #0087ff; text-decoration-color: #0087ff\">Conv2D</span>)        │ (<span style=\"color: #00d7ff; text-decoration-color: #00d7ff\">None</span>, <span style=\"color: #00af00; text-decoration-color: #00af00\">32</span>, <span style=\"color: #00af00; text-decoration-color: #00af00\">32</span>, <span style=\"color: #00af00; text-decoration-color: #00af00\">128</span>)    │          <span style=\"color: #00af00; text-decoration-color: #00af00\">1,280</span> │ input_layer_2[<span style=\"color: #00af00; text-decoration-color: #00af00\">0</span>][<span style=\"color: #00af00; text-decoration-color: #00af00\">0</span>]    │\n",
              "├───────────────────────────┼────────────────────────┼────────────────┼────────────────────────┤\n",
              "│ batch_normalization_28    │ (<span style=\"color: #00d7ff; text-decoration-color: #00d7ff\">None</span>, <span style=\"color: #00af00; text-decoration-color: #00af00\">32</span>, <span style=\"color: #00af00; text-decoration-color: #00af00\">32</span>, <span style=\"color: #00af00; text-decoration-color: #00af00\">128</span>)    │            <span style=\"color: #00af00; text-decoration-color: #00af00\">512</span> │ conv2d_28[<span style=\"color: #00af00; text-decoration-color: #00af00\">0</span>][<span style=\"color: #00af00; text-decoration-color: #00af00\">0</span>]        │\n",
              "│ (<span style=\"color: #0087ff; text-decoration-color: #0087ff\">BatchNormalization</span>)      │                        │                │                        │\n",
              "├───────────────────────────┼────────────────────────┼────────────────┼────────────────────────┤\n",
              "│ activation_28             │ (<span style=\"color: #00d7ff; text-decoration-color: #00d7ff\">None</span>, <span style=\"color: #00af00; text-decoration-color: #00af00\">32</span>, <span style=\"color: #00af00; text-decoration-color: #00af00\">32</span>, <span style=\"color: #00af00; text-decoration-color: #00af00\">128</span>)    │              <span style=\"color: #00af00; text-decoration-color: #00af00\">0</span> │ batch_normalization_2… │\n",
              "│ (<span style=\"color: #0087ff; text-decoration-color: #0087ff\">Activation</span>)              │                        │                │                        │\n",
              "├───────────────────────────┼────────────────────────┼────────────────┼────────────────────────┤\n",
              "│ conv2d_29 (<span style=\"color: #0087ff; text-decoration-color: #0087ff\">Conv2D</span>)        │ (<span style=\"color: #00d7ff; text-decoration-color: #00d7ff\">None</span>, <span style=\"color: #00af00; text-decoration-color: #00af00\">32</span>, <span style=\"color: #00af00; text-decoration-color: #00af00\">32</span>, <span style=\"color: #00af00; text-decoration-color: #00af00\">128</span>)    │        <span style=\"color: #00af00; text-decoration-color: #00af00\">147,584</span> │ activation_28[<span style=\"color: #00af00; text-decoration-color: #00af00\">0</span>][<span style=\"color: #00af00; text-decoration-color: #00af00\">0</span>]    │\n",
              "├───────────────────────────┼────────────────────────┼────────────────┼────────────────────────┤\n",
              "│ batch_normalization_29    │ (<span style=\"color: #00d7ff; text-decoration-color: #00d7ff\">None</span>, <span style=\"color: #00af00; text-decoration-color: #00af00\">32</span>, <span style=\"color: #00af00; text-decoration-color: #00af00\">32</span>, <span style=\"color: #00af00; text-decoration-color: #00af00\">128</span>)    │            <span style=\"color: #00af00; text-decoration-color: #00af00\">512</span> │ conv2d_29[<span style=\"color: #00af00; text-decoration-color: #00af00\">0</span>][<span style=\"color: #00af00; text-decoration-color: #00af00\">0</span>]        │\n",
              "│ (<span style=\"color: #0087ff; text-decoration-color: #0087ff\">BatchNormalization</span>)      │                        │                │                        │\n",
              "├───────────────────────────┼────────────────────────┼────────────────┼────────────────────────┤\n",
              "│ activation_29             │ (<span style=\"color: #00d7ff; text-decoration-color: #00d7ff\">None</span>, <span style=\"color: #00af00; text-decoration-color: #00af00\">32</span>, <span style=\"color: #00af00; text-decoration-color: #00af00\">32</span>, <span style=\"color: #00af00; text-decoration-color: #00af00\">128</span>)    │              <span style=\"color: #00af00; text-decoration-color: #00af00\">0</span> │ batch_normalization_2… │\n",
              "│ (<span style=\"color: #0087ff; text-decoration-color: #0087ff\">Activation</span>)              │                        │                │                        │\n",
              "├───────────────────────────┼────────────────────────┼────────────────┼────────────────────────┤\n",
              "│ max_pooling2d_4           │ (<span style=\"color: #00d7ff; text-decoration-color: #00d7ff\">None</span>, <span style=\"color: #00af00; text-decoration-color: #00af00\">16</span>, <span style=\"color: #00af00; text-decoration-color: #00af00\">16</span>, <span style=\"color: #00af00; text-decoration-color: #00af00\">128</span>)    │              <span style=\"color: #00af00; text-decoration-color: #00af00\">0</span> │ activation_29[<span style=\"color: #00af00; text-decoration-color: #00af00\">0</span>][<span style=\"color: #00af00; text-decoration-color: #00af00\">0</span>]    │\n",
              "│ (<span style=\"color: #0087ff; text-decoration-color: #0087ff\">MaxPooling2D</span>)            │                        │                │                        │\n",
              "├───────────────────────────┼────────────────────────┼────────────────┼────────────────────────┤\n",
              "│ conv2d_30 (<span style=\"color: #0087ff; text-decoration-color: #0087ff\">Conv2D</span>)        │ (<span style=\"color: #00d7ff; text-decoration-color: #00d7ff\">None</span>, <span style=\"color: #00af00; text-decoration-color: #00af00\">16</span>, <span style=\"color: #00af00; text-decoration-color: #00af00\">16</span>, <span style=\"color: #00af00; text-decoration-color: #00af00\">256</span>)    │        <span style=\"color: #00af00; text-decoration-color: #00af00\">295,168</span> │ max_pooling2d_4[<span style=\"color: #00af00; text-decoration-color: #00af00\">0</span>][<span style=\"color: #00af00; text-decoration-color: #00af00\">0</span>]  │\n",
              "├───────────────────────────┼────────────────────────┼────────────────┼────────────────────────┤\n",
              "│ batch_normalization_30    │ (<span style=\"color: #00d7ff; text-decoration-color: #00d7ff\">None</span>, <span style=\"color: #00af00; text-decoration-color: #00af00\">16</span>, <span style=\"color: #00af00; text-decoration-color: #00af00\">16</span>, <span style=\"color: #00af00; text-decoration-color: #00af00\">256</span>)    │          <span style=\"color: #00af00; text-decoration-color: #00af00\">1,024</span> │ conv2d_30[<span style=\"color: #00af00; text-decoration-color: #00af00\">0</span>][<span style=\"color: #00af00; text-decoration-color: #00af00\">0</span>]        │\n",
              "│ (<span style=\"color: #0087ff; text-decoration-color: #0087ff\">BatchNormalization</span>)      │                        │                │                        │\n",
              "├───────────────────────────┼────────────────────────┼────────────────┼────────────────────────┤\n",
              "│ activation_30             │ (<span style=\"color: #00d7ff; text-decoration-color: #00d7ff\">None</span>, <span style=\"color: #00af00; text-decoration-color: #00af00\">16</span>, <span style=\"color: #00af00; text-decoration-color: #00af00\">16</span>, <span style=\"color: #00af00; text-decoration-color: #00af00\">256</span>)    │              <span style=\"color: #00af00; text-decoration-color: #00af00\">0</span> │ batch_normalization_3… │\n",
              "│ (<span style=\"color: #0087ff; text-decoration-color: #0087ff\">Activation</span>)              │                        │                │                        │\n",
              "├───────────────────────────┼────────────────────────┼────────────────┼────────────────────────┤\n",
              "│ conv2d_31 (<span style=\"color: #0087ff; text-decoration-color: #0087ff\">Conv2D</span>)        │ (<span style=\"color: #00d7ff; text-decoration-color: #00d7ff\">None</span>, <span style=\"color: #00af00; text-decoration-color: #00af00\">16</span>, <span style=\"color: #00af00; text-decoration-color: #00af00\">16</span>, <span style=\"color: #00af00; text-decoration-color: #00af00\">256</span>)    │        <span style=\"color: #00af00; text-decoration-color: #00af00\">590,080</span> │ activation_30[<span style=\"color: #00af00; text-decoration-color: #00af00\">0</span>][<span style=\"color: #00af00; text-decoration-color: #00af00\">0</span>]    │\n",
              "├───────────────────────────┼────────────────────────┼────────────────┼────────────────────────┤\n",
              "│ batch_normalization_31    │ (<span style=\"color: #00d7ff; text-decoration-color: #00d7ff\">None</span>, <span style=\"color: #00af00; text-decoration-color: #00af00\">16</span>, <span style=\"color: #00af00; text-decoration-color: #00af00\">16</span>, <span style=\"color: #00af00; text-decoration-color: #00af00\">256</span>)    │          <span style=\"color: #00af00; text-decoration-color: #00af00\">1,024</span> │ conv2d_31[<span style=\"color: #00af00; text-decoration-color: #00af00\">0</span>][<span style=\"color: #00af00; text-decoration-color: #00af00\">0</span>]        │\n",
              "│ (<span style=\"color: #0087ff; text-decoration-color: #0087ff\">BatchNormalization</span>)      │                        │                │                        │\n",
              "├───────────────────────────┼────────────────────────┼────────────────┼────────────────────────┤\n",
              "│ activation_31             │ (<span style=\"color: #00d7ff; text-decoration-color: #00d7ff\">None</span>, <span style=\"color: #00af00; text-decoration-color: #00af00\">16</span>, <span style=\"color: #00af00; text-decoration-color: #00af00\">16</span>, <span style=\"color: #00af00; text-decoration-color: #00af00\">256</span>)    │              <span style=\"color: #00af00; text-decoration-color: #00af00\">0</span> │ batch_normalization_3… │\n",
              "│ (<span style=\"color: #0087ff; text-decoration-color: #0087ff\">Activation</span>)              │                        │                │                        │\n",
              "├───────────────────────────┼────────────────────────┼────────────────┼────────────────────────┤\n",
              "│ max_pooling2d_5           │ (<span style=\"color: #00d7ff; text-decoration-color: #00d7ff\">None</span>, <span style=\"color: #00af00; text-decoration-color: #00af00\">8</span>, <span style=\"color: #00af00; text-decoration-color: #00af00\">8</span>, <span style=\"color: #00af00; text-decoration-color: #00af00\">256</span>)      │              <span style=\"color: #00af00; text-decoration-color: #00af00\">0</span> │ activation_31[<span style=\"color: #00af00; text-decoration-color: #00af00\">0</span>][<span style=\"color: #00af00; text-decoration-color: #00af00\">0</span>]    │\n",
              "│ (<span style=\"color: #0087ff; text-decoration-color: #0087ff\">MaxPooling2D</span>)            │                        │                │                        │\n",
              "├───────────────────────────┼────────────────────────┼────────────────┼────────────────────────┤\n",
              "│ conv2d_32 (<span style=\"color: #0087ff; text-decoration-color: #0087ff\">Conv2D</span>)        │ (<span style=\"color: #00d7ff; text-decoration-color: #00d7ff\">None</span>, <span style=\"color: #00af00; text-decoration-color: #00af00\">8</span>, <span style=\"color: #00af00; text-decoration-color: #00af00\">8</span>, <span style=\"color: #00af00; text-decoration-color: #00af00\">512</span>)      │      <span style=\"color: #00af00; text-decoration-color: #00af00\">1,180,160</span> │ max_pooling2d_5[<span style=\"color: #00af00; text-decoration-color: #00af00\">0</span>][<span style=\"color: #00af00; text-decoration-color: #00af00\">0</span>]  │\n",
              "├───────────────────────────┼────────────────────────┼────────────────┼────────────────────────┤\n",
              "│ batch_normalization_32    │ (<span style=\"color: #00d7ff; text-decoration-color: #00d7ff\">None</span>, <span style=\"color: #00af00; text-decoration-color: #00af00\">8</span>, <span style=\"color: #00af00; text-decoration-color: #00af00\">8</span>, <span style=\"color: #00af00; text-decoration-color: #00af00\">512</span>)      │          <span style=\"color: #00af00; text-decoration-color: #00af00\">2,048</span> │ conv2d_32[<span style=\"color: #00af00; text-decoration-color: #00af00\">0</span>][<span style=\"color: #00af00; text-decoration-color: #00af00\">0</span>]        │\n",
              "│ (<span style=\"color: #0087ff; text-decoration-color: #0087ff\">BatchNormalization</span>)      │                        │                │                        │\n",
              "├───────────────────────────┼────────────────────────┼────────────────┼────────────────────────┤\n",
              "│ activation_32             │ (<span style=\"color: #00d7ff; text-decoration-color: #00d7ff\">None</span>, <span style=\"color: #00af00; text-decoration-color: #00af00\">8</span>, <span style=\"color: #00af00; text-decoration-color: #00af00\">8</span>, <span style=\"color: #00af00; text-decoration-color: #00af00\">512</span>)      │              <span style=\"color: #00af00; text-decoration-color: #00af00\">0</span> │ batch_normalization_3… │\n",
              "│ (<span style=\"color: #0087ff; text-decoration-color: #0087ff\">Activation</span>)              │                        │                │                        │\n",
              "├───────────────────────────┼────────────────────────┼────────────────┼────────────────────────┤\n",
              "│ conv2d_33 (<span style=\"color: #0087ff; text-decoration-color: #0087ff\">Conv2D</span>)        │ (<span style=\"color: #00d7ff; text-decoration-color: #00d7ff\">None</span>, <span style=\"color: #00af00; text-decoration-color: #00af00\">8</span>, <span style=\"color: #00af00; text-decoration-color: #00af00\">8</span>, <span style=\"color: #00af00; text-decoration-color: #00af00\">512</span>)      │      <span style=\"color: #00af00; text-decoration-color: #00af00\">2,359,808</span> │ activation_32[<span style=\"color: #00af00; text-decoration-color: #00af00\">0</span>][<span style=\"color: #00af00; text-decoration-color: #00af00\">0</span>]    │\n",
              "├───────────────────────────┼────────────────────────┼────────────────┼────────────────────────┤\n",
              "│ batch_normalization_33    │ (<span style=\"color: #00d7ff; text-decoration-color: #00d7ff\">None</span>, <span style=\"color: #00af00; text-decoration-color: #00af00\">8</span>, <span style=\"color: #00af00; text-decoration-color: #00af00\">8</span>, <span style=\"color: #00af00; text-decoration-color: #00af00\">512</span>)      │          <span style=\"color: #00af00; text-decoration-color: #00af00\">2,048</span> │ conv2d_33[<span style=\"color: #00af00; text-decoration-color: #00af00\">0</span>][<span style=\"color: #00af00; text-decoration-color: #00af00\">0</span>]        │\n",
              "│ (<span style=\"color: #0087ff; text-decoration-color: #0087ff\">BatchNormalization</span>)      │                        │                │                        │\n",
              "├───────────────────────────┼────────────────────────┼────────────────┼────────────────────────┤\n",
              "│ activation_33             │ (<span style=\"color: #00d7ff; text-decoration-color: #00d7ff\">None</span>, <span style=\"color: #00af00; text-decoration-color: #00af00\">8</span>, <span style=\"color: #00af00; text-decoration-color: #00af00\">8</span>, <span style=\"color: #00af00; text-decoration-color: #00af00\">512</span>)      │              <span style=\"color: #00af00; text-decoration-color: #00af00\">0</span> │ batch_normalization_3… │\n",
              "│ (<span style=\"color: #0087ff; text-decoration-color: #0087ff\">Activation</span>)              │                        │                │                        │\n",
              "├───────────────────────────┼────────────────────────┼────────────────┼────────────────────────┤\n",
              "│ conv2d_transpose_8        │ (<span style=\"color: #00d7ff; text-decoration-color: #00d7ff\">None</span>, <span style=\"color: #00af00; text-decoration-color: #00af00\">16</span>, <span style=\"color: #00af00; text-decoration-color: #00af00\">16</span>, <span style=\"color: #00af00; text-decoration-color: #00af00\">256</span>)    │        <span style=\"color: #00af00; text-decoration-color: #00af00\">524,544</span> │ activation_33[<span style=\"color: #00af00; text-decoration-color: #00af00\">0</span>][<span style=\"color: #00af00; text-decoration-color: #00af00\">0</span>]    │\n",
              "│ (<span style=\"color: #0087ff; text-decoration-color: #0087ff\">Conv2DTranspose</span>)         │                        │                │                        │\n",
              "├───────────────────────────┼────────────────────────┼────────────────┼────────────────────────┤\n",
              "│ conv2d_transpose_10       │ (<span style=\"color: #00d7ff; text-decoration-color: #00d7ff\">None</span>, <span style=\"color: #00af00; text-decoration-color: #00af00\">16</span>, <span style=\"color: #00af00; text-decoration-color: #00af00\">16</span>, <span style=\"color: #00af00; text-decoration-color: #00af00\">256</span>)    │        <span style=\"color: #00af00; text-decoration-color: #00af00\">524,544</span> │ activation_33[<span style=\"color: #00af00; text-decoration-color: #00af00\">0</span>][<span style=\"color: #00af00; text-decoration-color: #00af00\">0</span>]    │\n",
              "│ (<span style=\"color: #0087ff; text-decoration-color: #0087ff\">Conv2DTranspose</span>)         │                        │                │                        │\n",
              "├───────────────────────────┼────────────────────────┼────────────────┼────────────────────────┤\n",
              "│ concatenate_8             │ (<span style=\"color: #00d7ff; text-decoration-color: #00d7ff\">None</span>, <span style=\"color: #00af00; text-decoration-color: #00af00\">16</span>, <span style=\"color: #00af00; text-decoration-color: #00af00\">16</span>, <span style=\"color: #00af00; text-decoration-color: #00af00\">512</span>)    │              <span style=\"color: #00af00; text-decoration-color: #00af00\">0</span> │ conv2d_transpose_8[<span style=\"color: #00af00; text-decoration-color: #00af00\">0</span>]… │\n",
              "│ (<span style=\"color: #0087ff; text-decoration-color: #0087ff\">Concatenate</span>)             │                        │                │ activation_31[<span style=\"color: #00af00; text-decoration-color: #00af00\">0</span>][<span style=\"color: #00af00; text-decoration-color: #00af00\">0</span>]    │\n",
              "├───────────────────────────┼────────────────────────┼────────────────┼────────────────────────┤\n",
              "│ concatenate_10            │ (<span style=\"color: #00d7ff; text-decoration-color: #00d7ff\">None</span>, <span style=\"color: #00af00; text-decoration-color: #00af00\">16</span>, <span style=\"color: #00af00; text-decoration-color: #00af00\">16</span>, <span style=\"color: #00af00; text-decoration-color: #00af00\">512</span>)    │              <span style=\"color: #00af00; text-decoration-color: #00af00\">0</span> │ conv2d_transpose_10[<span style=\"color: #00af00; text-decoration-color: #00af00\">0</span>… │\n",
              "│ (<span style=\"color: #0087ff; text-decoration-color: #0087ff\">Concatenate</span>)             │                        │                │ activation_31[<span style=\"color: #00af00; text-decoration-color: #00af00\">0</span>][<span style=\"color: #00af00; text-decoration-color: #00af00\">0</span>]    │\n",
              "├───────────────────────────┼────────────────────────┼────────────────┼────────────────────────┤\n",
              "│ conv2d_34 (<span style=\"color: #0087ff; text-decoration-color: #0087ff\">Conv2D</span>)        │ (<span style=\"color: #00d7ff; text-decoration-color: #00d7ff\">None</span>, <span style=\"color: #00af00; text-decoration-color: #00af00\">16</span>, <span style=\"color: #00af00; text-decoration-color: #00af00\">16</span>, <span style=\"color: #00af00; text-decoration-color: #00af00\">256</span>)    │      <span style=\"color: #00af00; text-decoration-color: #00af00\">1,179,904</span> │ concatenate_8[<span style=\"color: #00af00; text-decoration-color: #00af00\">0</span>][<span style=\"color: #00af00; text-decoration-color: #00af00\">0</span>]    │\n",
              "├───────────────────────────┼────────────────────────┼────────────────┼────────────────────────┤\n",
              "│ conv2d_38 (<span style=\"color: #0087ff; text-decoration-color: #0087ff\">Conv2D</span>)        │ (<span style=\"color: #00d7ff; text-decoration-color: #00d7ff\">None</span>, <span style=\"color: #00af00; text-decoration-color: #00af00\">16</span>, <span style=\"color: #00af00; text-decoration-color: #00af00\">16</span>, <span style=\"color: #00af00; text-decoration-color: #00af00\">256</span>)    │      <span style=\"color: #00af00; text-decoration-color: #00af00\">1,179,904</span> │ concatenate_10[<span style=\"color: #00af00; text-decoration-color: #00af00\">0</span>][<span style=\"color: #00af00; text-decoration-color: #00af00\">0</span>]   │\n",
              "├───────────────────────────┼────────────────────────┼────────────────┼────────────────────────┤\n",
              "│ batch_normalization_34    │ (<span style=\"color: #00d7ff; text-decoration-color: #00d7ff\">None</span>, <span style=\"color: #00af00; text-decoration-color: #00af00\">16</span>, <span style=\"color: #00af00; text-decoration-color: #00af00\">16</span>, <span style=\"color: #00af00; text-decoration-color: #00af00\">256</span>)    │          <span style=\"color: #00af00; text-decoration-color: #00af00\">1,024</span> │ conv2d_34[<span style=\"color: #00af00; text-decoration-color: #00af00\">0</span>][<span style=\"color: #00af00; text-decoration-color: #00af00\">0</span>]        │\n",
              "│ (<span style=\"color: #0087ff; text-decoration-color: #0087ff\">BatchNormalization</span>)      │                        │                │                        │\n",
              "├───────────────────────────┼────────────────────────┼────────────────┼────────────────────────┤\n",
              "│ batch_normalization_38    │ (<span style=\"color: #00d7ff; text-decoration-color: #00d7ff\">None</span>, <span style=\"color: #00af00; text-decoration-color: #00af00\">16</span>, <span style=\"color: #00af00; text-decoration-color: #00af00\">16</span>, <span style=\"color: #00af00; text-decoration-color: #00af00\">256</span>)    │          <span style=\"color: #00af00; text-decoration-color: #00af00\">1,024</span> │ conv2d_38[<span style=\"color: #00af00; text-decoration-color: #00af00\">0</span>][<span style=\"color: #00af00; text-decoration-color: #00af00\">0</span>]        │\n",
              "│ (<span style=\"color: #0087ff; text-decoration-color: #0087ff\">BatchNormalization</span>)      │                        │                │                        │\n",
              "├───────────────────────────┼────────────────────────┼────────────────┼────────────────────────┤\n",
              "│ activation_34             │ (<span style=\"color: #00d7ff; text-decoration-color: #00d7ff\">None</span>, <span style=\"color: #00af00; text-decoration-color: #00af00\">16</span>, <span style=\"color: #00af00; text-decoration-color: #00af00\">16</span>, <span style=\"color: #00af00; text-decoration-color: #00af00\">256</span>)    │              <span style=\"color: #00af00; text-decoration-color: #00af00\">0</span> │ batch_normalization_3… │\n",
              "│ (<span style=\"color: #0087ff; text-decoration-color: #0087ff\">Activation</span>)              │                        │                │                        │\n",
              "├───────────────────────────┼────────────────────────┼────────────────┼────────────────────────┤\n",
              "│ activation_38             │ (<span style=\"color: #00d7ff; text-decoration-color: #00d7ff\">None</span>, <span style=\"color: #00af00; text-decoration-color: #00af00\">16</span>, <span style=\"color: #00af00; text-decoration-color: #00af00\">16</span>, <span style=\"color: #00af00; text-decoration-color: #00af00\">256</span>)    │              <span style=\"color: #00af00; text-decoration-color: #00af00\">0</span> │ batch_normalization_3… │\n",
              "│ (<span style=\"color: #0087ff; text-decoration-color: #0087ff\">Activation</span>)              │                        │                │                        │\n",
              "├───────────────────────────┼────────────────────────┼────────────────┼────────────────────────┤\n",
              "│ conv2d_35 (<span style=\"color: #0087ff; text-decoration-color: #0087ff\">Conv2D</span>)        │ (<span style=\"color: #00d7ff; text-decoration-color: #00d7ff\">None</span>, <span style=\"color: #00af00; text-decoration-color: #00af00\">16</span>, <span style=\"color: #00af00; text-decoration-color: #00af00\">16</span>, <span style=\"color: #00af00; text-decoration-color: #00af00\">256</span>)    │        <span style=\"color: #00af00; text-decoration-color: #00af00\">590,080</span> │ activation_34[<span style=\"color: #00af00; text-decoration-color: #00af00\">0</span>][<span style=\"color: #00af00; text-decoration-color: #00af00\">0</span>]    │\n",
              "├───────────────────────────┼────────────────────────┼────────────────┼────────────────────────┤\n",
              "│ conv2d_39 (<span style=\"color: #0087ff; text-decoration-color: #0087ff\">Conv2D</span>)        │ (<span style=\"color: #00d7ff; text-decoration-color: #00d7ff\">None</span>, <span style=\"color: #00af00; text-decoration-color: #00af00\">16</span>, <span style=\"color: #00af00; text-decoration-color: #00af00\">16</span>, <span style=\"color: #00af00; text-decoration-color: #00af00\">256</span>)    │        <span style=\"color: #00af00; text-decoration-color: #00af00\">590,080</span> │ activation_38[<span style=\"color: #00af00; text-decoration-color: #00af00\">0</span>][<span style=\"color: #00af00; text-decoration-color: #00af00\">0</span>]    │\n",
              "├───────────────────────────┼────────────────────────┼────────────────┼────────────────────────┤\n",
              "│ batch_normalization_35    │ (<span style=\"color: #00d7ff; text-decoration-color: #00d7ff\">None</span>, <span style=\"color: #00af00; text-decoration-color: #00af00\">16</span>, <span style=\"color: #00af00; text-decoration-color: #00af00\">16</span>, <span style=\"color: #00af00; text-decoration-color: #00af00\">256</span>)    │          <span style=\"color: #00af00; text-decoration-color: #00af00\">1,024</span> │ conv2d_35[<span style=\"color: #00af00; text-decoration-color: #00af00\">0</span>][<span style=\"color: #00af00; text-decoration-color: #00af00\">0</span>]        │\n",
              "│ (<span style=\"color: #0087ff; text-decoration-color: #0087ff\">BatchNormalization</span>)      │                        │                │                        │\n",
              "├───────────────────────────┼────────────────────────┼────────────────┼────────────────────────┤\n",
              "│ batch_normalization_39    │ (<span style=\"color: #00d7ff; text-decoration-color: #00d7ff\">None</span>, <span style=\"color: #00af00; text-decoration-color: #00af00\">16</span>, <span style=\"color: #00af00; text-decoration-color: #00af00\">16</span>, <span style=\"color: #00af00; text-decoration-color: #00af00\">256</span>)    │          <span style=\"color: #00af00; text-decoration-color: #00af00\">1,024</span> │ conv2d_39[<span style=\"color: #00af00; text-decoration-color: #00af00\">0</span>][<span style=\"color: #00af00; text-decoration-color: #00af00\">0</span>]        │\n",
              "│ (<span style=\"color: #0087ff; text-decoration-color: #0087ff\">BatchNormalization</span>)      │                        │                │                        │\n",
              "├───────────────────────────┼────────────────────────┼────────────────┼────────────────────────┤\n",
              "│ activation_35             │ (<span style=\"color: #00d7ff; text-decoration-color: #00d7ff\">None</span>, <span style=\"color: #00af00; text-decoration-color: #00af00\">16</span>, <span style=\"color: #00af00; text-decoration-color: #00af00\">16</span>, <span style=\"color: #00af00; text-decoration-color: #00af00\">256</span>)    │              <span style=\"color: #00af00; text-decoration-color: #00af00\">0</span> │ batch_normalization_3… │\n",
              "│ (<span style=\"color: #0087ff; text-decoration-color: #0087ff\">Activation</span>)              │                        │                │                        │\n",
              "├───────────────────────────┼────────────────────────┼────────────────┼────────────────────────┤\n",
              "│ activation_39             │ (<span style=\"color: #00d7ff; text-decoration-color: #00d7ff\">None</span>, <span style=\"color: #00af00; text-decoration-color: #00af00\">16</span>, <span style=\"color: #00af00; text-decoration-color: #00af00\">16</span>, <span style=\"color: #00af00; text-decoration-color: #00af00\">256</span>)    │              <span style=\"color: #00af00; text-decoration-color: #00af00\">0</span> │ batch_normalization_3… │\n",
              "│ (<span style=\"color: #0087ff; text-decoration-color: #0087ff\">Activation</span>)              │                        │                │                        │\n",
              "├───────────────────────────┼────────────────────────┼────────────────┼────────────────────────┤\n",
              "│ conv2d_transpose_9        │ (<span style=\"color: #00d7ff; text-decoration-color: #00d7ff\">None</span>, <span style=\"color: #00af00; text-decoration-color: #00af00\">32</span>, <span style=\"color: #00af00; text-decoration-color: #00af00\">32</span>, <span style=\"color: #00af00; text-decoration-color: #00af00\">128</span>)    │        <span style=\"color: #00af00; text-decoration-color: #00af00\">131,200</span> │ activation_35[<span style=\"color: #00af00; text-decoration-color: #00af00\">0</span>][<span style=\"color: #00af00; text-decoration-color: #00af00\">0</span>]    │\n",
              "│ (<span style=\"color: #0087ff; text-decoration-color: #0087ff\">Conv2DTranspose</span>)         │                        │                │                        │\n",
              "├───────────────────────────┼────────────────────────┼────────────────┼────────────────────────┤\n",
              "│ conv2d_transpose_11       │ (<span style=\"color: #00d7ff; text-decoration-color: #00d7ff\">None</span>, <span style=\"color: #00af00; text-decoration-color: #00af00\">32</span>, <span style=\"color: #00af00; text-decoration-color: #00af00\">32</span>, <span style=\"color: #00af00; text-decoration-color: #00af00\">128</span>)    │        <span style=\"color: #00af00; text-decoration-color: #00af00\">131,200</span> │ activation_39[<span style=\"color: #00af00; text-decoration-color: #00af00\">0</span>][<span style=\"color: #00af00; text-decoration-color: #00af00\">0</span>]    │\n",
              "│ (<span style=\"color: #0087ff; text-decoration-color: #0087ff\">Conv2DTranspose</span>)         │                        │                │                        │\n",
              "├───────────────────────────┼────────────────────────┼────────────────┼────────────────────────┤\n",
              "│ concatenate_9             │ (<span style=\"color: #00d7ff; text-decoration-color: #00d7ff\">None</span>, <span style=\"color: #00af00; text-decoration-color: #00af00\">32</span>, <span style=\"color: #00af00; text-decoration-color: #00af00\">32</span>, <span style=\"color: #00af00; text-decoration-color: #00af00\">256</span>)    │              <span style=\"color: #00af00; text-decoration-color: #00af00\">0</span> │ conv2d_transpose_9[<span style=\"color: #00af00; text-decoration-color: #00af00\">0</span>]… │\n",
              "│ (<span style=\"color: #0087ff; text-decoration-color: #0087ff\">Concatenate</span>)             │                        │                │ activation_29[<span style=\"color: #00af00; text-decoration-color: #00af00\">0</span>][<span style=\"color: #00af00; text-decoration-color: #00af00\">0</span>]    │\n",
              "├───────────────────────────┼────────────────────────┼────────────────┼────────────────────────┤\n",
              "│ concatenate_11            │ (<span style=\"color: #00d7ff; text-decoration-color: #00d7ff\">None</span>, <span style=\"color: #00af00; text-decoration-color: #00af00\">32</span>, <span style=\"color: #00af00; text-decoration-color: #00af00\">32</span>, <span style=\"color: #00af00; text-decoration-color: #00af00\">256</span>)    │              <span style=\"color: #00af00; text-decoration-color: #00af00\">0</span> │ conv2d_transpose_11[<span style=\"color: #00af00; text-decoration-color: #00af00\">0</span>… │\n",
              "│ (<span style=\"color: #0087ff; text-decoration-color: #0087ff\">Concatenate</span>)             │                        │                │ activation_29[<span style=\"color: #00af00; text-decoration-color: #00af00\">0</span>][<span style=\"color: #00af00; text-decoration-color: #00af00\">0</span>]    │\n",
              "├───────────────────────────┼────────────────────────┼────────────────┼────────────────────────┤\n",
              "│ conv2d_36 (<span style=\"color: #0087ff; text-decoration-color: #0087ff\">Conv2D</span>)        │ (<span style=\"color: #00d7ff; text-decoration-color: #00d7ff\">None</span>, <span style=\"color: #00af00; text-decoration-color: #00af00\">32</span>, <span style=\"color: #00af00; text-decoration-color: #00af00\">32</span>, <span style=\"color: #00af00; text-decoration-color: #00af00\">128</span>)    │        <span style=\"color: #00af00; text-decoration-color: #00af00\">295,040</span> │ concatenate_9[<span style=\"color: #00af00; text-decoration-color: #00af00\">0</span>][<span style=\"color: #00af00; text-decoration-color: #00af00\">0</span>]    │\n",
              "├───────────────────────────┼────────────────────────┼────────────────┼────────────────────────┤\n",
              "│ conv2d_40 (<span style=\"color: #0087ff; text-decoration-color: #0087ff\">Conv2D</span>)        │ (<span style=\"color: #00d7ff; text-decoration-color: #00d7ff\">None</span>, <span style=\"color: #00af00; text-decoration-color: #00af00\">32</span>, <span style=\"color: #00af00; text-decoration-color: #00af00\">32</span>, <span style=\"color: #00af00; text-decoration-color: #00af00\">128</span>)    │        <span style=\"color: #00af00; text-decoration-color: #00af00\">295,040</span> │ concatenate_11[<span style=\"color: #00af00; text-decoration-color: #00af00\">0</span>][<span style=\"color: #00af00; text-decoration-color: #00af00\">0</span>]   │\n",
              "├───────────────────────────┼────────────────────────┼────────────────┼────────────────────────┤\n",
              "│ batch_normalization_36    │ (<span style=\"color: #00d7ff; text-decoration-color: #00d7ff\">None</span>, <span style=\"color: #00af00; text-decoration-color: #00af00\">32</span>, <span style=\"color: #00af00; text-decoration-color: #00af00\">32</span>, <span style=\"color: #00af00; text-decoration-color: #00af00\">128</span>)    │            <span style=\"color: #00af00; text-decoration-color: #00af00\">512</span> │ conv2d_36[<span style=\"color: #00af00; text-decoration-color: #00af00\">0</span>][<span style=\"color: #00af00; text-decoration-color: #00af00\">0</span>]        │\n",
              "│ (<span style=\"color: #0087ff; text-decoration-color: #0087ff\">BatchNormalization</span>)      │                        │                │                        │\n",
              "├───────────────────────────┼────────────────────────┼────────────────┼────────────────────────┤\n",
              "│ batch_normalization_40    │ (<span style=\"color: #00d7ff; text-decoration-color: #00d7ff\">None</span>, <span style=\"color: #00af00; text-decoration-color: #00af00\">32</span>, <span style=\"color: #00af00; text-decoration-color: #00af00\">32</span>, <span style=\"color: #00af00; text-decoration-color: #00af00\">128</span>)    │            <span style=\"color: #00af00; text-decoration-color: #00af00\">512</span> │ conv2d_40[<span style=\"color: #00af00; text-decoration-color: #00af00\">0</span>][<span style=\"color: #00af00; text-decoration-color: #00af00\">0</span>]        │\n",
              "│ (<span style=\"color: #0087ff; text-decoration-color: #0087ff\">BatchNormalization</span>)      │                        │                │                        │\n",
              "├───────────────────────────┼────────────────────────┼────────────────┼────────────────────────┤\n",
              "│ activation_36             │ (<span style=\"color: #00d7ff; text-decoration-color: #00d7ff\">None</span>, <span style=\"color: #00af00; text-decoration-color: #00af00\">32</span>, <span style=\"color: #00af00; text-decoration-color: #00af00\">32</span>, <span style=\"color: #00af00; text-decoration-color: #00af00\">128</span>)    │              <span style=\"color: #00af00; text-decoration-color: #00af00\">0</span> │ batch_normalization_3… │\n",
              "│ (<span style=\"color: #0087ff; text-decoration-color: #0087ff\">Activation</span>)              │                        │                │                        │\n",
              "├───────────────────────────┼────────────────────────┼────────────────┼────────────────────────┤\n",
              "│ activation_40             │ (<span style=\"color: #00d7ff; text-decoration-color: #00d7ff\">None</span>, <span style=\"color: #00af00; text-decoration-color: #00af00\">32</span>, <span style=\"color: #00af00; text-decoration-color: #00af00\">32</span>, <span style=\"color: #00af00; text-decoration-color: #00af00\">128</span>)    │              <span style=\"color: #00af00; text-decoration-color: #00af00\">0</span> │ batch_normalization_4… │\n",
              "│ (<span style=\"color: #0087ff; text-decoration-color: #0087ff\">Activation</span>)              │                        │                │                        │\n",
              "├───────────────────────────┼────────────────────────┼────────────────┼────────────────────────┤\n",
              "│ conv2d_37 (<span style=\"color: #0087ff; text-decoration-color: #0087ff\">Conv2D</span>)        │ (<span style=\"color: #00d7ff; text-decoration-color: #00d7ff\">None</span>, <span style=\"color: #00af00; text-decoration-color: #00af00\">32</span>, <span style=\"color: #00af00; text-decoration-color: #00af00\">32</span>, <span style=\"color: #00af00; text-decoration-color: #00af00\">128</span>)    │        <span style=\"color: #00af00; text-decoration-color: #00af00\">147,584</span> │ activation_36[<span style=\"color: #00af00; text-decoration-color: #00af00\">0</span>][<span style=\"color: #00af00; text-decoration-color: #00af00\">0</span>]    │\n",
              "├───────────────────────────┼────────────────────────┼────────────────┼────────────────────────┤\n",
              "│ conv2d_41 (<span style=\"color: #0087ff; text-decoration-color: #0087ff\">Conv2D</span>)        │ (<span style=\"color: #00d7ff; text-decoration-color: #00d7ff\">None</span>, <span style=\"color: #00af00; text-decoration-color: #00af00\">32</span>, <span style=\"color: #00af00; text-decoration-color: #00af00\">32</span>, <span style=\"color: #00af00; text-decoration-color: #00af00\">128</span>)    │        <span style=\"color: #00af00; text-decoration-color: #00af00\">147,584</span> │ activation_40[<span style=\"color: #00af00; text-decoration-color: #00af00\">0</span>][<span style=\"color: #00af00; text-decoration-color: #00af00\">0</span>]    │\n",
              "├───────────────────────────┼────────────────────────┼────────────────┼────────────────────────┤\n",
              "│ batch_normalization_37    │ (<span style=\"color: #00d7ff; text-decoration-color: #00d7ff\">None</span>, <span style=\"color: #00af00; text-decoration-color: #00af00\">32</span>, <span style=\"color: #00af00; text-decoration-color: #00af00\">32</span>, <span style=\"color: #00af00; text-decoration-color: #00af00\">128</span>)    │            <span style=\"color: #00af00; text-decoration-color: #00af00\">512</span> │ conv2d_37[<span style=\"color: #00af00; text-decoration-color: #00af00\">0</span>][<span style=\"color: #00af00; text-decoration-color: #00af00\">0</span>]        │\n",
              "│ (<span style=\"color: #0087ff; text-decoration-color: #0087ff\">BatchNormalization</span>)      │                        │                │                        │\n",
              "├───────────────────────────┼────────────────────────┼────────────────┼────────────────────────┤\n",
              "│ batch_normalization_41    │ (<span style=\"color: #00d7ff; text-decoration-color: #00d7ff\">None</span>, <span style=\"color: #00af00; text-decoration-color: #00af00\">32</span>, <span style=\"color: #00af00; text-decoration-color: #00af00\">32</span>, <span style=\"color: #00af00; text-decoration-color: #00af00\">128</span>)    │            <span style=\"color: #00af00; text-decoration-color: #00af00\">512</span> │ conv2d_41[<span style=\"color: #00af00; text-decoration-color: #00af00\">0</span>][<span style=\"color: #00af00; text-decoration-color: #00af00\">0</span>]        │\n",
              "│ (<span style=\"color: #0087ff; text-decoration-color: #0087ff\">BatchNormalization</span>)      │                        │                │                        │\n",
              "├───────────────────────────┼────────────────────────┼────────────────┼────────────────────────┤\n",
              "│ activation_37             │ (<span style=\"color: #00d7ff; text-decoration-color: #00d7ff\">None</span>, <span style=\"color: #00af00; text-decoration-color: #00af00\">32</span>, <span style=\"color: #00af00; text-decoration-color: #00af00\">32</span>, <span style=\"color: #00af00; text-decoration-color: #00af00\">128</span>)    │              <span style=\"color: #00af00; text-decoration-color: #00af00\">0</span> │ batch_normalization_3… │\n",
              "│ (<span style=\"color: #0087ff; text-decoration-color: #0087ff\">Activation</span>)              │                        │                │                        │\n",
              "├───────────────────────────┼────────────────────────┼────────────────┼────────────────────────┤\n",
              "│ activation_41             │ (<span style=\"color: #00d7ff; text-decoration-color: #00d7ff\">None</span>, <span style=\"color: #00af00; text-decoration-color: #00af00\">32</span>, <span style=\"color: #00af00; text-decoration-color: #00af00\">32</span>, <span style=\"color: #00af00; text-decoration-color: #00af00\">128</span>)    │              <span style=\"color: #00af00; text-decoration-color: #00af00\">0</span> │ batch_normalization_4… │\n",
              "│ (<span style=\"color: #0087ff; text-decoration-color: #0087ff\">Activation</span>)              │                        │                │                        │\n",
              "├───────────────────────────┼────────────────────────┼────────────────┼────────────────────────┤\n",
              "│ image1_output (<span style=\"color: #0087ff; text-decoration-color: #0087ff\">Conv2D</span>)    │ (<span style=\"color: #00d7ff; text-decoration-color: #00d7ff\">None</span>, <span style=\"color: #00af00; text-decoration-color: #00af00\">32</span>, <span style=\"color: #00af00; text-decoration-color: #00af00\">32</span>, <span style=\"color: #00af00; text-decoration-color: #00af00\">1</span>)      │            <span style=\"color: #00af00; text-decoration-color: #00af00\">129</span> │ activation_37[<span style=\"color: #00af00; text-decoration-color: #00af00\">0</span>][<span style=\"color: #00af00; text-decoration-color: #00af00\">0</span>]    │\n",
              "├───────────────────────────┼────────────────────────┼────────────────┼────────────────────────┤\n",
              "│ image2_output (<span style=\"color: #0087ff; text-decoration-color: #0087ff\">Conv2D</span>)    │ (<span style=\"color: #00d7ff; text-decoration-color: #00d7ff\">None</span>, <span style=\"color: #00af00; text-decoration-color: #00af00\">32</span>, <span style=\"color: #00af00; text-decoration-color: #00af00\">32</span>, <span style=\"color: #00af00; text-decoration-color: #00af00\">1</span>)      │            <span style=\"color: #00af00; text-decoration-color: #00af00\">129</span> │ activation_41[<span style=\"color: #00af00; text-decoration-color: #00af00\">0</span>][<span style=\"color: #00af00; text-decoration-color: #00af00\">0</span>]    │\n",
              "└───────────────────────────┴────────────────────────┴────────────────┴────────────────────────┘\n",
              "</pre>\n"
            ],
            "text/plain": [
              "┏━━━━━━━━━━━━━━━━━━━━━━━━━━━┳━━━━━━━━━━━━━━━━━━━━━━━━┳━━━━━━━━━━━━━━━━┳━━━━━━━━━━━━━━━━━━━━━━━━┓\n",
              "┃\u001b[1m \u001b[0m\u001b[1mLayer (type)             \u001b[0m\u001b[1m \u001b[0m┃\u001b[1m \u001b[0m\u001b[1mOutput Shape          \u001b[0m\u001b[1m \u001b[0m┃\u001b[1m \u001b[0m\u001b[1m       Param #\u001b[0m\u001b[1m \u001b[0m┃\u001b[1m \u001b[0m\u001b[1mConnected to          \u001b[0m\u001b[1m \u001b[0m┃\n",
              "┡━━━━━━━━━━━━━━━━━━━━━━━━━━━╇━━━━━━━━━━━━━━━━━━━━━━━━╇━━━━━━━━━━━━━━━━╇━━━━━━━━━━━━━━━━━━━━━━━━┩\n",
              "│ input_layer_2             │ (\u001b[38;5;45mNone\u001b[0m, \u001b[38;5;34m32\u001b[0m, \u001b[38;5;34m32\u001b[0m, \u001b[38;5;34m1\u001b[0m)      │              \u001b[38;5;34m0\u001b[0m │ -                      │\n",
              "│ (\u001b[38;5;33mInputLayer\u001b[0m)              │                        │                │                        │\n",
              "├───────────────────────────┼────────────────────────┼────────────────┼────────────────────────┤\n",
              "│ conv2d_28 (\u001b[38;5;33mConv2D\u001b[0m)        │ (\u001b[38;5;45mNone\u001b[0m, \u001b[38;5;34m32\u001b[0m, \u001b[38;5;34m32\u001b[0m, \u001b[38;5;34m128\u001b[0m)    │          \u001b[38;5;34m1,280\u001b[0m │ input_layer_2[\u001b[38;5;34m0\u001b[0m][\u001b[38;5;34m0\u001b[0m]    │\n",
              "├───────────────────────────┼────────────────────────┼────────────────┼────────────────────────┤\n",
              "│ batch_normalization_28    │ (\u001b[38;5;45mNone\u001b[0m, \u001b[38;5;34m32\u001b[0m, \u001b[38;5;34m32\u001b[0m, \u001b[38;5;34m128\u001b[0m)    │            \u001b[38;5;34m512\u001b[0m │ conv2d_28[\u001b[38;5;34m0\u001b[0m][\u001b[38;5;34m0\u001b[0m]        │\n",
              "│ (\u001b[38;5;33mBatchNormalization\u001b[0m)      │                        │                │                        │\n",
              "├───────────────────────────┼────────────────────────┼────────────────┼────────────────────────┤\n",
              "│ activation_28             │ (\u001b[38;5;45mNone\u001b[0m, \u001b[38;5;34m32\u001b[0m, \u001b[38;5;34m32\u001b[0m, \u001b[38;5;34m128\u001b[0m)    │              \u001b[38;5;34m0\u001b[0m │ batch_normalization_2… │\n",
              "│ (\u001b[38;5;33mActivation\u001b[0m)              │                        │                │                        │\n",
              "├───────────────────────────┼────────────────────────┼────────────────┼────────────────────────┤\n",
              "│ conv2d_29 (\u001b[38;5;33mConv2D\u001b[0m)        │ (\u001b[38;5;45mNone\u001b[0m, \u001b[38;5;34m32\u001b[0m, \u001b[38;5;34m32\u001b[0m, \u001b[38;5;34m128\u001b[0m)    │        \u001b[38;5;34m147,584\u001b[0m │ activation_28[\u001b[38;5;34m0\u001b[0m][\u001b[38;5;34m0\u001b[0m]    │\n",
              "├───────────────────────────┼────────────────────────┼────────────────┼────────────────────────┤\n",
              "│ batch_normalization_29    │ (\u001b[38;5;45mNone\u001b[0m, \u001b[38;5;34m32\u001b[0m, \u001b[38;5;34m32\u001b[0m, \u001b[38;5;34m128\u001b[0m)    │            \u001b[38;5;34m512\u001b[0m │ conv2d_29[\u001b[38;5;34m0\u001b[0m][\u001b[38;5;34m0\u001b[0m]        │\n",
              "│ (\u001b[38;5;33mBatchNormalization\u001b[0m)      │                        │                │                        │\n",
              "├───────────────────────────┼────────────────────────┼────────────────┼────────────────────────┤\n",
              "│ activation_29             │ (\u001b[38;5;45mNone\u001b[0m, \u001b[38;5;34m32\u001b[0m, \u001b[38;5;34m32\u001b[0m, \u001b[38;5;34m128\u001b[0m)    │              \u001b[38;5;34m0\u001b[0m │ batch_normalization_2… │\n",
              "│ (\u001b[38;5;33mActivation\u001b[0m)              │                        │                │                        │\n",
              "├───────────────────────────┼────────────────────────┼────────────────┼────────────────────────┤\n",
              "│ max_pooling2d_4           │ (\u001b[38;5;45mNone\u001b[0m, \u001b[38;5;34m16\u001b[0m, \u001b[38;5;34m16\u001b[0m, \u001b[38;5;34m128\u001b[0m)    │              \u001b[38;5;34m0\u001b[0m │ activation_29[\u001b[38;5;34m0\u001b[0m][\u001b[38;5;34m0\u001b[0m]    │\n",
              "│ (\u001b[38;5;33mMaxPooling2D\u001b[0m)            │                        │                │                        │\n",
              "├───────────────────────────┼────────────────────────┼────────────────┼────────────────────────┤\n",
              "│ conv2d_30 (\u001b[38;5;33mConv2D\u001b[0m)        │ (\u001b[38;5;45mNone\u001b[0m, \u001b[38;5;34m16\u001b[0m, \u001b[38;5;34m16\u001b[0m, \u001b[38;5;34m256\u001b[0m)    │        \u001b[38;5;34m295,168\u001b[0m │ max_pooling2d_4[\u001b[38;5;34m0\u001b[0m][\u001b[38;5;34m0\u001b[0m]  │\n",
              "├───────────────────────────┼────────────────────────┼────────────────┼────────────────────────┤\n",
              "│ batch_normalization_30    │ (\u001b[38;5;45mNone\u001b[0m, \u001b[38;5;34m16\u001b[0m, \u001b[38;5;34m16\u001b[0m, \u001b[38;5;34m256\u001b[0m)    │          \u001b[38;5;34m1,024\u001b[0m │ conv2d_30[\u001b[38;5;34m0\u001b[0m][\u001b[38;5;34m0\u001b[0m]        │\n",
              "│ (\u001b[38;5;33mBatchNormalization\u001b[0m)      │                        │                │                        │\n",
              "├───────────────────────────┼────────────────────────┼────────────────┼────────────────────────┤\n",
              "│ activation_30             │ (\u001b[38;5;45mNone\u001b[0m, \u001b[38;5;34m16\u001b[0m, \u001b[38;5;34m16\u001b[0m, \u001b[38;5;34m256\u001b[0m)    │              \u001b[38;5;34m0\u001b[0m │ batch_normalization_3… │\n",
              "│ (\u001b[38;5;33mActivation\u001b[0m)              │                        │                │                        │\n",
              "├───────────────────────────┼────────────────────────┼────────────────┼────────────────────────┤\n",
              "│ conv2d_31 (\u001b[38;5;33mConv2D\u001b[0m)        │ (\u001b[38;5;45mNone\u001b[0m, \u001b[38;5;34m16\u001b[0m, \u001b[38;5;34m16\u001b[0m, \u001b[38;5;34m256\u001b[0m)    │        \u001b[38;5;34m590,080\u001b[0m │ activation_30[\u001b[38;5;34m0\u001b[0m][\u001b[38;5;34m0\u001b[0m]    │\n",
              "├───────────────────────────┼────────────────────────┼────────────────┼────────────────────────┤\n",
              "│ batch_normalization_31    │ (\u001b[38;5;45mNone\u001b[0m, \u001b[38;5;34m16\u001b[0m, \u001b[38;5;34m16\u001b[0m, \u001b[38;5;34m256\u001b[0m)    │          \u001b[38;5;34m1,024\u001b[0m │ conv2d_31[\u001b[38;5;34m0\u001b[0m][\u001b[38;5;34m0\u001b[0m]        │\n",
              "│ (\u001b[38;5;33mBatchNormalization\u001b[0m)      │                        │                │                        │\n",
              "├───────────────────────────┼────────────────────────┼────────────────┼────────────────────────┤\n",
              "│ activation_31             │ (\u001b[38;5;45mNone\u001b[0m, \u001b[38;5;34m16\u001b[0m, \u001b[38;5;34m16\u001b[0m, \u001b[38;5;34m256\u001b[0m)    │              \u001b[38;5;34m0\u001b[0m │ batch_normalization_3… │\n",
              "│ (\u001b[38;5;33mActivation\u001b[0m)              │                        │                │                        │\n",
              "├───────────────────────────┼────────────────────────┼────────────────┼────────────────────────┤\n",
              "│ max_pooling2d_5           │ (\u001b[38;5;45mNone\u001b[0m, \u001b[38;5;34m8\u001b[0m, \u001b[38;5;34m8\u001b[0m, \u001b[38;5;34m256\u001b[0m)      │              \u001b[38;5;34m0\u001b[0m │ activation_31[\u001b[38;5;34m0\u001b[0m][\u001b[38;5;34m0\u001b[0m]    │\n",
              "│ (\u001b[38;5;33mMaxPooling2D\u001b[0m)            │                        │                │                        │\n",
              "├───────────────────────────┼────────────────────────┼────────────────┼────────────────────────┤\n",
              "│ conv2d_32 (\u001b[38;5;33mConv2D\u001b[0m)        │ (\u001b[38;5;45mNone\u001b[0m, \u001b[38;5;34m8\u001b[0m, \u001b[38;5;34m8\u001b[0m, \u001b[38;5;34m512\u001b[0m)      │      \u001b[38;5;34m1,180,160\u001b[0m │ max_pooling2d_5[\u001b[38;5;34m0\u001b[0m][\u001b[38;5;34m0\u001b[0m]  │\n",
              "├───────────────────────────┼────────────────────────┼────────────────┼────────────────────────┤\n",
              "│ batch_normalization_32    │ (\u001b[38;5;45mNone\u001b[0m, \u001b[38;5;34m8\u001b[0m, \u001b[38;5;34m8\u001b[0m, \u001b[38;5;34m512\u001b[0m)      │          \u001b[38;5;34m2,048\u001b[0m │ conv2d_32[\u001b[38;5;34m0\u001b[0m][\u001b[38;5;34m0\u001b[0m]        │\n",
              "│ (\u001b[38;5;33mBatchNormalization\u001b[0m)      │                        │                │                        │\n",
              "├───────────────────────────┼────────────────────────┼────────────────┼────────────────────────┤\n",
              "│ activation_32             │ (\u001b[38;5;45mNone\u001b[0m, \u001b[38;5;34m8\u001b[0m, \u001b[38;5;34m8\u001b[0m, \u001b[38;5;34m512\u001b[0m)      │              \u001b[38;5;34m0\u001b[0m │ batch_normalization_3… │\n",
              "│ (\u001b[38;5;33mActivation\u001b[0m)              │                        │                │                        │\n",
              "├───────────────────────────┼────────────────────────┼────────────────┼────────────────────────┤\n",
              "│ conv2d_33 (\u001b[38;5;33mConv2D\u001b[0m)        │ (\u001b[38;5;45mNone\u001b[0m, \u001b[38;5;34m8\u001b[0m, \u001b[38;5;34m8\u001b[0m, \u001b[38;5;34m512\u001b[0m)      │      \u001b[38;5;34m2,359,808\u001b[0m │ activation_32[\u001b[38;5;34m0\u001b[0m][\u001b[38;5;34m0\u001b[0m]    │\n",
              "├───────────────────────────┼────────────────────────┼────────────────┼────────────────────────┤\n",
              "│ batch_normalization_33    │ (\u001b[38;5;45mNone\u001b[0m, \u001b[38;5;34m8\u001b[0m, \u001b[38;5;34m8\u001b[0m, \u001b[38;5;34m512\u001b[0m)      │          \u001b[38;5;34m2,048\u001b[0m │ conv2d_33[\u001b[38;5;34m0\u001b[0m][\u001b[38;5;34m0\u001b[0m]        │\n",
              "│ (\u001b[38;5;33mBatchNormalization\u001b[0m)      │                        │                │                        │\n",
              "├───────────────────────────┼────────────────────────┼────────────────┼────────────────────────┤\n",
              "│ activation_33             │ (\u001b[38;5;45mNone\u001b[0m, \u001b[38;5;34m8\u001b[0m, \u001b[38;5;34m8\u001b[0m, \u001b[38;5;34m512\u001b[0m)      │              \u001b[38;5;34m0\u001b[0m │ batch_normalization_3… │\n",
              "│ (\u001b[38;5;33mActivation\u001b[0m)              │                        │                │                        │\n",
              "├───────────────────────────┼────────────────────────┼────────────────┼────────────────────────┤\n",
              "│ conv2d_transpose_8        │ (\u001b[38;5;45mNone\u001b[0m, \u001b[38;5;34m16\u001b[0m, \u001b[38;5;34m16\u001b[0m, \u001b[38;5;34m256\u001b[0m)    │        \u001b[38;5;34m524,544\u001b[0m │ activation_33[\u001b[38;5;34m0\u001b[0m][\u001b[38;5;34m0\u001b[0m]    │\n",
              "│ (\u001b[38;5;33mConv2DTranspose\u001b[0m)         │                        │                │                        │\n",
              "├───────────────────────────┼────────────────────────┼────────────────┼────────────────────────┤\n",
              "│ conv2d_transpose_10       │ (\u001b[38;5;45mNone\u001b[0m, \u001b[38;5;34m16\u001b[0m, \u001b[38;5;34m16\u001b[0m, \u001b[38;5;34m256\u001b[0m)    │        \u001b[38;5;34m524,544\u001b[0m │ activation_33[\u001b[38;5;34m0\u001b[0m][\u001b[38;5;34m0\u001b[0m]    │\n",
              "│ (\u001b[38;5;33mConv2DTranspose\u001b[0m)         │                        │                │                        │\n",
              "├───────────────────────────┼────────────────────────┼────────────────┼────────────────────────┤\n",
              "│ concatenate_8             │ (\u001b[38;5;45mNone\u001b[0m, \u001b[38;5;34m16\u001b[0m, \u001b[38;5;34m16\u001b[0m, \u001b[38;5;34m512\u001b[0m)    │              \u001b[38;5;34m0\u001b[0m │ conv2d_transpose_8[\u001b[38;5;34m0\u001b[0m]… │\n",
              "│ (\u001b[38;5;33mConcatenate\u001b[0m)             │                        │                │ activation_31[\u001b[38;5;34m0\u001b[0m][\u001b[38;5;34m0\u001b[0m]    │\n",
              "├───────────────────────────┼────────────────────────┼────────────────┼────────────────────────┤\n",
              "│ concatenate_10            │ (\u001b[38;5;45mNone\u001b[0m, \u001b[38;5;34m16\u001b[0m, \u001b[38;5;34m16\u001b[0m, \u001b[38;5;34m512\u001b[0m)    │              \u001b[38;5;34m0\u001b[0m │ conv2d_transpose_10[\u001b[38;5;34m0\u001b[0m… │\n",
              "│ (\u001b[38;5;33mConcatenate\u001b[0m)             │                        │                │ activation_31[\u001b[38;5;34m0\u001b[0m][\u001b[38;5;34m0\u001b[0m]    │\n",
              "├───────────────────────────┼────────────────────────┼────────────────┼────────────────────────┤\n",
              "│ conv2d_34 (\u001b[38;5;33mConv2D\u001b[0m)        │ (\u001b[38;5;45mNone\u001b[0m, \u001b[38;5;34m16\u001b[0m, \u001b[38;5;34m16\u001b[0m, \u001b[38;5;34m256\u001b[0m)    │      \u001b[38;5;34m1,179,904\u001b[0m │ concatenate_8[\u001b[38;5;34m0\u001b[0m][\u001b[38;5;34m0\u001b[0m]    │\n",
              "├───────────────────────────┼────────────────────────┼────────────────┼────────────────────────┤\n",
              "│ conv2d_38 (\u001b[38;5;33mConv2D\u001b[0m)        │ (\u001b[38;5;45mNone\u001b[0m, \u001b[38;5;34m16\u001b[0m, \u001b[38;5;34m16\u001b[0m, \u001b[38;5;34m256\u001b[0m)    │      \u001b[38;5;34m1,179,904\u001b[0m │ concatenate_10[\u001b[38;5;34m0\u001b[0m][\u001b[38;5;34m0\u001b[0m]   │\n",
              "├───────────────────────────┼────────────────────────┼────────────────┼────────────────────────┤\n",
              "│ batch_normalization_34    │ (\u001b[38;5;45mNone\u001b[0m, \u001b[38;5;34m16\u001b[0m, \u001b[38;5;34m16\u001b[0m, \u001b[38;5;34m256\u001b[0m)    │          \u001b[38;5;34m1,024\u001b[0m │ conv2d_34[\u001b[38;5;34m0\u001b[0m][\u001b[38;5;34m0\u001b[0m]        │\n",
              "│ (\u001b[38;5;33mBatchNormalization\u001b[0m)      │                        │                │                        │\n",
              "├───────────────────────────┼────────────────────────┼────────────────┼────────────────────────┤\n",
              "│ batch_normalization_38    │ (\u001b[38;5;45mNone\u001b[0m, \u001b[38;5;34m16\u001b[0m, \u001b[38;5;34m16\u001b[0m, \u001b[38;5;34m256\u001b[0m)    │          \u001b[38;5;34m1,024\u001b[0m │ conv2d_38[\u001b[38;5;34m0\u001b[0m][\u001b[38;5;34m0\u001b[0m]        │\n",
              "│ (\u001b[38;5;33mBatchNormalization\u001b[0m)      │                        │                │                        │\n",
              "├───────────────────────────┼────────────────────────┼────────────────┼────────────────────────┤\n",
              "│ activation_34             │ (\u001b[38;5;45mNone\u001b[0m, \u001b[38;5;34m16\u001b[0m, \u001b[38;5;34m16\u001b[0m, \u001b[38;5;34m256\u001b[0m)    │              \u001b[38;5;34m0\u001b[0m │ batch_normalization_3… │\n",
              "│ (\u001b[38;5;33mActivation\u001b[0m)              │                        │                │                        │\n",
              "├───────────────────────────┼────────────────────────┼────────────────┼────────────────────────┤\n",
              "│ activation_38             │ (\u001b[38;5;45mNone\u001b[0m, \u001b[38;5;34m16\u001b[0m, \u001b[38;5;34m16\u001b[0m, \u001b[38;5;34m256\u001b[0m)    │              \u001b[38;5;34m0\u001b[0m │ batch_normalization_3… │\n",
              "│ (\u001b[38;5;33mActivation\u001b[0m)              │                        │                │                        │\n",
              "├───────────────────────────┼────────────────────────┼────────────────┼────────────────────────┤\n",
              "│ conv2d_35 (\u001b[38;5;33mConv2D\u001b[0m)        │ (\u001b[38;5;45mNone\u001b[0m, \u001b[38;5;34m16\u001b[0m, \u001b[38;5;34m16\u001b[0m, \u001b[38;5;34m256\u001b[0m)    │        \u001b[38;5;34m590,080\u001b[0m │ activation_34[\u001b[38;5;34m0\u001b[0m][\u001b[38;5;34m0\u001b[0m]    │\n",
              "├───────────────────────────┼────────────────────────┼────────────────┼────────────────────────┤\n",
              "│ conv2d_39 (\u001b[38;5;33mConv2D\u001b[0m)        │ (\u001b[38;5;45mNone\u001b[0m, \u001b[38;5;34m16\u001b[0m, \u001b[38;5;34m16\u001b[0m, \u001b[38;5;34m256\u001b[0m)    │        \u001b[38;5;34m590,080\u001b[0m │ activation_38[\u001b[38;5;34m0\u001b[0m][\u001b[38;5;34m0\u001b[0m]    │\n",
              "├───────────────────────────┼────────────────────────┼────────────────┼────────────────────────┤\n",
              "│ batch_normalization_35    │ (\u001b[38;5;45mNone\u001b[0m, \u001b[38;5;34m16\u001b[0m, \u001b[38;5;34m16\u001b[0m, \u001b[38;5;34m256\u001b[0m)    │          \u001b[38;5;34m1,024\u001b[0m │ conv2d_35[\u001b[38;5;34m0\u001b[0m][\u001b[38;5;34m0\u001b[0m]        │\n",
              "│ (\u001b[38;5;33mBatchNormalization\u001b[0m)      │                        │                │                        │\n",
              "├───────────────────────────┼────────────────────────┼────────────────┼────────────────────────┤\n",
              "│ batch_normalization_39    │ (\u001b[38;5;45mNone\u001b[0m, \u001b[38;5;34m16\u001b[0m, \u001b[38;5;34m16\u001b[0m, \u001b[38;5;34m256\u001b[0m)    │          \u001b[38;5;34m1,024\u001b[0m │ conv2d_39[\u001b[38;5;34m0\u001b[0m][\u001b[38;5;34m0\u001b[0m]        │\n",
              "│ (\u001b[38;5;33mBatchNormalization\u001b[0m)      │                        │                │                        │\n",
              "├───────────────────────────┼────────────────────────┼────────────────┼────────────────────────┤\n",
              "│ activation_35             │ (\u001b[38;5;45mNone\u001b[0m, \u001b[38;5;34m16\u001b[0m, \u001b[38;5;34m16\u001b[0m, \u001b[38;5;34m256\u001b[0m)    │              \u001b[38;5;34m0\u001b[0m │ batch_normalization_3… │\n",
              "│ (\u001b[38;5;33mActivation\u001b[0m)              │                        │                │                        │\n",
              "├───────────────────────────┼────────────────────────┼────────────────┼────────────────────────┤\n",
              "│ activation_39             │ (\u001b[38;5;45mNone\u001b[0m, \u001b[38;5;34m16\u001b[0m, \u001b[38;5;34m16\u001b[0m, \u001b[38;5;34m256\u001b[0m)    │              \u001b[38;5;34m0\u001b[0m │ batch_normalization_3… │\n",
              "│ (\u001b[38;5;33mActivation\u001b[0m)              │                        │                │                        │\n",
              "├───────────────────────────┼────────────────────────┼────────────────┼────────────────────────┤\n",
              "│ conv2d_transpose_9        │ (\u001b[38;5;45mNone\u001b[0m, \u001b[38;5;34m32\u001b[0m, \u001b[38;5;34m32\u001b[0m, \u001b[38;5;34m128\u001b[0m)    │        \u001b[38;5;34m131,200\u001b[0m │ activation_35[\u001b[38;5;34m0\u001b[0m][\u001b[38;5;34m0\u001b[0m]    │\n",
              "│ (\u001b[38;5;33mConv2DTranspose\u001b[0m)         │                        │                │                        │\n",
              "├───────────────────────────┼────────────────────────┼────────────────┼────────────────────────┤\n",
              "│ conv2d_transpose_11       │ (\u001b[38;5;45mNone\u001b[0m, \u001b[38;5;34m32\u001b[0m, \u001b[38;5;34m32\u001b[0m, \u001b[38;5;34m128\u001b[0m)    │        \u001b[38;5;34m131,200\u001b[0m │ activation_39[\u001b[38;5;34m0\u001b[0m][\u001b[38;5;34m0\u001b[0m]    │\n",
              "│ (\u001b[38;5;33mConv2DTranspose\u001b[0m)         │                        │                │                        │\n",
              "├───────────────────────────┼────────────────────────┼────────────────┼────────────────────────┤\n",
              "│ concatenate_9             │ (\u001b[38;5;45mNone\u001b[0m, \u001b[38;5;34m32\u001b[0m, \u001b[38;5;34m32\u001b[0m, \u001b[38;5;34m256\u001b[0m)    │              \u001b[38;5;34m0\u001b[0m │ conv2d_transpose_9[\u001b[38;5;34m0\u001b[0m]… │\n",
              "│ (\u001b[38;5;33mConcatenate\u001b[0m)             │                        │                │ activation_29[\u001b[38;5;34m0\u001b[0m][\u001b[38;5;34m0\u001b[0m]    │\n",
              "├───────────────────────────┼────────────────────────┼────────────────┼────────────────────────┤\n",
              "│ concatenate_11            │ (\u001b[38;5;45mNone\u001b[0m, \u001b[38;5;34m32\u001b[0m, \u001b[38;5;34m32\u001b[0m, \u001b[38;5;34m256\u001b[0m)    │              \u001b[38;5;34m0\u001b[0m │ conv2d_transpose_11[\u001b[38;5;34m0\u001b[0m… │\n",
              "│ (\u001b[38;5;33mConcatenate\u001b[0m)             │                        │                │ activation_29[\u001b[38;5;34m0\u001b[0m][\u001b[38;5;34m0\u001b[0m]    │\n",
              "├───────────────────────────┼────────────────────────┼────────────────┼────────────────────────┤\n",
              "│ conv2d_36 (\u001b[38;5;33mConv2D\u001b[0m)        │ (\u001b[38;5;45mNone\u001b[0m, \u001b[38;5;34m32\u001b[0m, \u001b[38;5;34m32\u001b[0m, \u001b[38;5;34m128\u001b[0m)    │        \u001b[38;5;34m295,040\u001b[0m │ concatenate_9[\u001b[38;5;34m0\u001b[0m][\u001b[38;5;34m0\u001b[0m]    │\n",
              "├───────────────────────────┼────────────────────────┼────────────────┼────────────────────────┤\n",
              "│ conv2d_40 (\u001b[38;5;33mConv2D\u001b[0m)        │ (\u001b[38;5;45mNone\u001b[0m, \u001b[38;5;34m32\u001b[0m, \u001b[38;5;34m32\u001b[0m, \u001b[38;5;34m128\u001b[0m)    │        \u001b[38;5;34m295,040\u001b[0m │ concatenate_11[\u001b[38;5;34m0\u001b[0m][\u001b[38;5;34m0\u001b[0m]   │\n",
              "├───────────────────────────┼────────────────────────┼────────────────┼────────────────────────┤\n",
              "│ batch_normalization_36    │ (\u001b[38;5;45mNone\u001b[0m, \u001b[38;5;34m32\u001b[0m, \u001b[38;5;34m32\u001b[0m, \u001b[38;5;34m128\u001b[0m)    │            \u001b[38;5;34m512\u001b[0m │ conv2d_36[\u001b[38;5;34m0\u001b[0m][\u001b[38;5;34m0\u001b[0m]        │\n",
              "│ (\u001b[38;5;33mBatchNormalization\u001b[0m)      │                        │                │                        │\n",
              "├───────────────────────────┼────────────────────────┼────────────────┼────────────────────────┤\n",
              "│ batch_normalization_40    │ (\u001b[38;5;45mNone\u001b[0m, \u001b[38;5;34m32\u001b[0m, \u001b[38;5;34m32\u001b[0m, \u001b[38;5;34m128\u001b[0m)    │            \u001b[38;5;34m512\u001b[0m │ conv2d_40[\u001b[38;5;34m0\u001b[0m][\u001b[38;5;34m0\u001b[0m]        │\n",
              "│ (\u001b[38;5;33mBatchNormalization\u001b[0m)      │                        │                │                        │\n",
              "├───────────────────────────┼────────────────────────┼────────────────┼────────────────────────┤\n",
              "│ activation_36             │ (\u001b[38;5;45mNone\u001b[0m, \u001b[38;5;34m32\u001b[0m, \u001b[38;5;34m32\u001b[0m, \u001b[38;5;34m128\u001b[0m)    │              \u001b[38;5;34m0\u001b[0m │ batch_normalization_3… │\n",
              "│ (\u001b[38;5;33mActivation\u001b[0m)              │                        │                │                        │\n",
              "├───────────────────────────┼────────────────────────┼────────────────┼────────────────────────┤\n",
              "│ activation_40             │ (\u001b[38;5;45mNone\u001b[0m, \u001b[38;5;34m32\u001b[0m, \u001b[38;5;34m32\u001b[0m, \u001b[38;5;34m128\u001b[0m)    │              \u001b[38;5;34m0\u001b[0m │ batch_normalization_4… │\n",
              "│ (\u001b[38;5;33mActivation\u001b[0m)              │                        │                │                        │\n",
              "├───────────────────────────┼────────────────────────┼────────────────┼────────────────────────┤\n",
              "│ conv2d_37 (\u001b[38;5;33mConv2D\u001b[0m)        │ (\u001b[38;5;45mNone\u001b[0m, \u001b[38;5;34m32\u001b[0m, \u001b[38;5;34m32\u001b[0m, \u001b[38;5;34m128\u001b[0m)    │        \u001b[38;5;34m147,584\u001b[0m │ activation_36[\u001b[38;5;34m0\u001b[0m][\u001b[38;5;34m0\u001b[0m]    │\n",
              "├───────────────────────────┼────────────────────────┼────────────────┼────────────────────────┤\n",
              "│ conv2d_41 (\u001b[38;5;33mConv2D\u001b[0m)        │ (\u001b[38;5;45mNone\u001b[0m, \u001b[38;5;34m32\u001b[0m, \u001b[38;5;34m32\u001b[0m, \u001b[38;5;34m128\u001b[0m)    │        \u001b[38;5;34m147,584\u001b[0m │ activation_40[\u001b[38;5;34m0\u001b[0m][\u001b[38;5;34m0\u001b[0m]    │\n",
              "├───────────────────────────┼────────────────────────┼────────────────┼────────────────────────┤\n",
              "│ batch_normalization_37    │ (\u001b[38;5;45mNone\u001b[0m, \u001b[38;5;34m32\u001b[0m, \u001b[38;5;34m32\u001b[0m, \u001b[38;5;34m128\u001b[0m)    │            \u001b[38;5;34m512\u001b[0m │ conv2d_37[\u001b[38;5;34m0\u001b[0m][\u001b[38;5;34m0\u001b[0m]        │\n",
              "│ (\u001b[38;5;33mBatchNormalization\u001b[0m)      │                        │                │                        │\n",
              "├───────────────────────────┼────────────────────────┼────────────────┼────────────────────────┤\n",
              "│ batch_normalization_41    │ (\u001b[38;5;45mNone\u001b[0m, \u001b[38;5;34m32\u001b[0m, \u001b[38;5;34m32\u001b[0m, \u001b[38;5;34m128\u001b[0m)    │            \u001b[38;5;34m512\u001b[0m │ conv2d_41[\u001b[38;5;34m0\u001b[0m][\u001b[38;5;34m0\u001b[0m]        │\n",
              "│ (\u001b[38;5;33mBatchNormalization\u001b[0m)      │                        │                │                        │\n",
              "├───────────────────────────┼────────────────────────┼────────────────┼────────────────────────┤\n",
              "│ activation_37             │ (\u001b[38;5;45mNone\u001b[0m, \u001b[38;5;34m32\u001b[0m, \u001b[38;5;34m32\u001b[0m, \u001b[38;5;34m128\u001b[0m)    │              \u001b[38;5;34m0\u001b[0m │ batch_normalization_3… │\n",
              "│ (\u001b[38;5;33mActivation\u001b[0m)              │                        │                │                        │\n",
              "├───────────────────────────┼────────────────────────┼────────────────┼────────────────────────┤\n",
              "│ activation_41             │ (\u001b[38;5;45mNone\u001b[0m, \u001b[38;5;34m32\u001b[0m, \u001b[38;5;34m32\u001b[0m, \u001b[38;5;34m128\u001b[0m)    │              \u001b[38;5;34m0\u001b[0m │ batch_normalization_4… │\n",
              "│ (\u001b[38;5;33mActivation\u001b[0m)              │                        │                │                        │\n",
              "├───────────────────────────┼────────────────────────┼────────────────┼────────────────────────┤\n",
              "│ image1_output (\u001b[38;5;33mConv2D\u001b[0m)    │ (\u001b[38;5;45mNone\u001b[0m, \u001b[38;5;34m32\u001b[0m, \u001b[38;5;34m32\u001b[0m, \u001b[38;5;34m1\u001b[0m)      │            \u001b[38;5;34m129\u001b[0m │ activation_37[\u001b[38;5;34m0\u001b[0m][\u001b[38;5;34m0\u001b[0m]    │\n",
              "├───────────────────────────┼────────────────────────┼────────────────┼────────────────────────┤\n",
              "│ image2_output (\u001b[38;5;33mConv2D\u001b[0m)    │ (\u001b[38;5;45mNone\u001b[0m, \u001b[38;5;34m32\u001b[0m, \u001b[38;5;34m32\u001b[0m, \u001b[38;5;34m1\u001b[0m)      │            \u001b[38;5;34m129\u001b[0m │ activation_41[\u001b[38;5;34m0\u001b[0m][\u001b[38;5;34m0\u001b[0m]    │\n",
              "└───────────────────────────┴────────────────────────┴────────────────┴────────────────────────┘\n"
            ]
          },
          "metadata": {},
          "output_type": "display_data"
        },
        {
          "data": {
            "text/html": [
              "<pre style=\"white-space:pre;overflow-x:auto;line-height:normal;font-family:Menlo,'DejaVu Sans Mono',consolas,'Courier New',monospace\"><span style=\"font-weight: bold\"> Total params: </span><span style=\"color: #00af00; text-decoration-color: #00af00\">10,324,354</span> (39.38 MB)\n",
              "</pre>\n"
            ],
            "text/plain": [
              "\u001b[1m Total params: \u001b[0m\u001b[38;5;34m10,324,354\u001b[0m (39.38 MB)\n"
            ]
          },
          "metadata": {},
          "output_type": "display_data"
        },
        {
          "data": {
            "text/html": [
              "<pre style=\"white-space:pre;overflow-x:auto;line-height:normal;font-family:Menlo,'DejaVu Sans Mono',consolas,'Courier New',monospace\"><span style=\"font-weight: bold\"> Trainable params: </span><span style=\"color: #00af00; text-decoration-color: #00af00\">10,317,698</span> (39.36 MB)\n",
              "</pre>\n"
            ],
            "text/plain": [
              "\u001b[1m Trainable params: \u001b[0m\u001b[38;5;34m10,317,698\u001b[0m (39.36 MB)\n"
            ]
          },
          "metadata": {},
          "output_type": "display_data"
        },
        {
          "data": {
            "text/html": [
              "<pre style=\"white-space:pre;overflow-x:auto;line-height:normal;font-family:Menlo,'DejaVu Sans Mono',consolas,'Courier New',monospace\"><span style=\"font-weight: bold\"> Non-trainable params: </span><span style=\"color: #00af00; text-decoration-color: #00af00\">6,656</span> (26.00 KB)\n",
              "</pre>\n"
            ],
            "text/plain": [
              "\u001b[1m Non-trainable params: \u001b[0m\u001b[38;5;34m6,656\u001b[0m (26.00 KB)\n"
            ]
          },
          "metadata": {},
          "output_type": "display_data"
        }
      ],
      "source": [
        "import tensorflow as tf\n",
        "from tensorflow.keras import layers, Model\n",
        "\n",
        "#Convolution block\n",
        "#2 consecutive convolution layer with BatchNormalization and ReLu Activation function\n",
        "def conv_block(x, filters):\n",
        "    x = layers.Conv2D(filters, (3,3), padding='same')(x)\n",
        "    x = layers.BatchNormalization()(x)\n",
        "    x = layers.Activation('relu')(x)\n",
        "    x = layers.Conv2D(filters, (3,3), padding='same')(x)\n",
        "    x = layers.BatchNormalization()(x)\n",
        "    x = layers.Activation('relu')(x)\n",
        "    return x\n",
        "\n",
        "# Encoder Block: Conv + MaxPooling\n",
        "def encoder_block(x, filters):\n",
        "    x = conv_block(x, filters)\n",
        "    p = layers.MaxPooling2D((2, 2))(x)\n",
        "    return x, p\n",
        "\n",
        "#Decoder Block: Upsampling + Skip Connection\n",
        "def decoder_block(x, skip_features, filters):\n",
        "    x = layers.Conv2DTranspose(filters, (2, 2), strides=2, padding=\"same\")(x)\n",
        "    x = layers.Concatenate()([x, skip_features])\n",
        "    x = conv_block(x, filters)\n",
        "    return x\n",
        "\n",
        "# Build UNet model\n",
        "def build_unet_decomposition(input_shape=(32, 32, 1)):\n",
        "    inputs = layers.Input(input_shape)\n",
        "\n",
        "    # Encoder\n",
        "    s1, p1 = encoder_block(inputs, 128)\n",
        "    s2, p2 = encoder_block(p1, 256)\n",
        "\n",
        "    # Bottleneck\n",
        "    b = conv_block(p2, 512)\n",
        "\n",
        "    # Decoder for Image 1\n",
        "    d1_3 = decoder_block(b, s2, 256)\n",
        "    d1_4 = decoder_block(d1_3, s1, 128)\n",
        "    output1 = layers.Conv2D(1, (1, 1), activation=\"sigmoid\", name=\"image1_output\")(d1_4)\n",
        "\n",
        "    # Decoder for Image 2\n",
        "    d2_3 = decoder_block(b, s2, 256)\n",
        "    d2_4 = decoder_block(d2_3, s1, 128)\n",
        "    output2 = layers.Conv2D(1, (1, 1), activation=\"sigmoid\", name=\"image2_output\")(d2_4)\n",
        "\n",
        "    # Build Model\n",
        "    model = Model(inputs, [output1, output2], name=\"U-Net_Decomposition\")\n",
        "    return model\n",
        "\n",
        "# Create Model\n",
        "UNET_model = build_unet_decomposition()\n",
        "\n",
        "# Compile Model\n",
        "UNET_model.compile(optimizer=\"adam\",\n",
        "              loss={\"image1_output\": \"mse\",\n",
        "                    \"image2_output\": \"mse\"},\n",
        "              metrics={\"image1_output\": [\"accuracy\"],\n",
        "                       \"image2_output\": [\"accuracy\"]})\n",
        "\n",
        "# Summary\n",
        "UNET_model.summary()\n"
      ]
    },
    {
      "cell_type": "markdown",
      "metadata": {
        "id": "hdmd4oCxzIrs"
      },
      "source": [
        "This model consists of approximately 10.3 million trainable parameters. A schematic diagram illustrating its architecture is provided in the following section."
      ]
    },
    {
      "cell_type": "markdown",
      "metadata": {
        "id": "sIsPf-1BNYDF"
      },
      "source": [
        "### Visualizing neural network architectures"
      ]
    },
    {
      "cell_type": "code",
      "execution_count": null,
      "metadata": {
        "colab": {
          "base_uri": "https://localhost:8080/"
        },
        "id": "A6SuLa66Mudh",
        "outputId": "1b873f9b-2db1-47d6-ae70-dce2f605fd2b"
      },
      "outputs": [
        {
          "name": "stdout",
          "output_type": "stream",
          "text": [
            "\u001b[?25l   \u001b[90m━━━━━━━━━━━━━━━━━━━━━━━━━━━━━━━━━━━━━━━━\u001b[0m \u001b[32m0.0/997.4 kB\u001b[0m \u001b[31m?\u001b[0m eta \u001b[36m-:--:--\u001b[0m\r\u001b[2K   \u001b[91m━━━━━━━━━━━\u001b[0m\u001b[90m╺\u001b[0m\u001b[90m━━━━━━━━━━━━━━━━━━━━━━━━━━━━\u001b[0m \u001b[32m286.7/997.4 kB\u001b[0m \u001b[31m8.6 MB/s\u001b[0m eta \u001b[36m0:00:01\u001b[0m\r\u001b[2K   \u001b[90m━━━━━━━━━━━━━━━━━━━━━━━━━━━━━━━━━━━━━━━━\u001b[0m \u001b[32m997.4/997.4 kB\u001b[0m \u001b[31m15.9 MB/s\u001b[0m eta \u001b[36m0:00:00\u001b[0m\n",
            "\u001b[?25h"
          ]
        }
      ],
      "source": [
        "!pip install visualkeras -q"
      ]
    },
    {
      "cell_type": "code",
      "execution_count": null,
      "metadata": {
        "colab": {
          "base_uri": "https://localhost:8080/",
          "height": 200
        },
        "id": "lCEP3vL_MlGT",
        "outputId": "a88534ea-9695-42d0-beda-56d9d8618492"
      },
      "outputs": [
        {
          "name": "stderr",
          "output_type": "stream",
          "text": [
            "/usr/local/lib/python3.11/dist-packages/visualkeras/layered.py:86: UserWarning: The legend_text_spacing_offset parameter is deprecated and will be removed in a future release.\n",
            "  warnings.warn(\"The legend_text_spacing_offset parameter is deprecated and will be removed in a future release.\")\n"
          ]
        },
        {
          "data": {
            "image/png": "[encoded data removed]",
            "text/plain": [
              "<PIL.Image.Image image mode=RGBA size=2082x209>"
            ]
          },
          "execution_count": 26,
          "metadata": {},
          "output_type": "execute_result"
        }
      ],
      "source": [
        "import visualkeras\n",
        "\n",
        "visualkeras.layered_view(UNET_model, legend=True)"
      ]
    },
    {
      "cell_type": "code",
      "execution_count": null,
      "metadata": {
        "id": "2JYHjfUo8Xc1"
      },
      "outputs": [],
      "source": [
        "from tensorflow.keras.callbacks import EarlyStopping\n",
        "from tensorflow.keras.callbacks import ReduceLROnPlateau, ModelCheckpoint\n",
        "\n",
        "# Reduce learning rate when progress slows: If the validation loss doesn't improve for 4 epochs,\n",
        "# the learning rate is reduced by 40% to help the model converge more effectively.\n",
        "reduce_lr = ReduceLROnPlateau(\n",
        "    monitor=\"val_loss\",\n",
        "    factor=0.4,\n",
        "    patience=4,\n",
        "    min_lr=1e-6,\n",
        "    min_delta=0.000001,\n",
        "    mode=\"min\",\n",
        "    verbose=1\n",
        ")\n",
        "\n",
        "# Stop training if no improvement: If the validation loss doesn't improve for 8 epochs,\n",
        "# training stops early to prevent overfitting and save time.\n",
        "early_stopping = EarlyStopping(\n",
        "    monitor=\"val_loss\",\n",
        "    patience=8,\n",
        "    # restore_best_weights=True,\n",
        "    min_delta=0.000001,\n",
        "    verbose=1\n",
        ")\n",
        "\n",
        "# Save the best model: Keeps track of the model's best performance based on validation loss\n",
        "# and saves the corresponding weights to avoid losing progress.\n",
        "check_ponit = ModelCheckpoint(\n",
        "    filepath='best_unet_model.weights.h5',\n",
        "    monitor='val_loss',\n",
        "    save_weights_only=True,\n",
        "    save_best_only=True\n",
        ")"
      ]
    },
    {
      "cell_type": "code",
      "execution_count": null,
      "metadata": {
        "id": "u5Jq1NycOjwc"
      },
      "outputs": [],
      "source": [
        "# Split into training and validation sets\n",
        "mnist_X_tr, mnist_X_val, mnist_Y_tr, mnist_Y_val = train_test_split(mnist_x_train, mnist_y_train, test_size=0.2, random_state=42)\n",
        "fash_X_tr, fash_X_val, fash_Y_tr, fash_Y_val = train_test_split(fashion_mnist_x_train, fashion_mnist_y_train, test_size=0.2, random_state=42)"
      ]
    },
    {
      "cell_type": "code",
      "execution_count": null,
      "metadata": {
        "id": "wmpB1ys_8bMD"
      },
      "outputs": [],
      "source": [
        "batch_size = 128\n",
        "\n",
        "steps_per_epoch = int(np.ceil(mnist_X_tr.shape[0] / batch_size))\n",
        "validation_steps = int(np.ceil(mnist_X_val.shape[0] / batch_size))"
      ]
    },
    {
      "cell_type": "code",
      "execution_count": null,
      "metadata": {
        "colab": {
          "base_uri": "https://localhost:8080/"
        },
        "id": "ypbaXOh98duT",
        "outputId": "c53dc20e-52b6-4c6b-a1b9-1a4004564884"
      },
      "outputs": [
        {
          "name": "stdout",
          "output_type": "stream",
          "text": [
            "Epoch 1/200\n",
            "\u001b[1m375/375\u001b[0m \u001b[32m━━━━━━━━━━━━━━━━━━━━\u001b[0m\u001b[37m\u001b[0m \u001b[1m35s\u001b[0m 46ms/step - image1_output_accuracy: 0.8468 - image1_output_loss: 0.0182 - image2_output_accuracy: 0.6152 - image2_output_loss: 0.0152 - loss: 0.0333 - val_image1_output_accuracy: 0.8542 - val_image1_output_loss: 0.0765 - val_image2_output_accuracy: 0.6190 - val_image2_output_loss: 0.0511 - val_loss: 0.1276 - learning_rate: 0.0010\n",
            "Epoch 2/200\n",
            "\u001b[1m375/375\u001b[0m \u001b[32m━━━━━━━━━━━━━━━━━━━━\u001b[0m\u001b[37m\u001b[0m \u001b[1m16s\u001b[0m 42ms/step - image1_output_accuracy: 0.8586 - image1_output_loss: 0.0020 - image2_output_accuracy: 0.6257 - image2_output_loss: 0.0021 - loss: 0.0041 - val_image1_output_accuracy: 0.8584 - val_image1_output_loss: 0.0019 - val_image2_output_accuracy: 0.6253 - val_image2_output_loss: 0.0045 - val_loss: 0.0064 - learning_rate: 0.0010\n",
            "Epoch 3/200\n",
            "\u001b[1m375/375\u001b[0m \u001b[32m━━━━━━━━━━━━━━━━━━━━\u001b[0m\u001b[37m\u001b[0m \u001b[1m16s\u001b[0m 42ms/step - image1_output_accuracy: 0.8583 - image1_output_loss: 0.0014 - image2_output_accuracy: 0.6246 - image2_output_loss: 0.0016 - loss: 0.0030 - val_image1_output_accuracy: 0.8593 - val_image1_output_loss: 0.0014 - val_image2_output_accuracy: 0.6239 - val_image2_output_loss: 0.0015 - val_loss: 0.0029 - learning_rate: 0.0010\n",
            "Epoch 4/200\n",
            "\u001b[1m375/375\u001b[0m \u001b[32m━━━━━━━━━━━━━━━━━━━━\u001b[0m\u001b[37m\u001b[0m \u001b[1m16s\u001b[0m 42ms/step - image1_output_accuracy: 0.8583 - image1_output_loss: 0.0011 - image2_output_accuracy: 0.6240 - image2_output_loss: 0.0013 - loss: 0.0024 - val_image1_output_accuracy: 0.8588 - val_image1_output_loss: 9.8578e-04 - val_image2_output_accuracy: 0.6249 - val_image2_output_loss: 0.0010 - val_loss: 0.0020 - learning_rate: 0.0010\n",
            "Epoch 5/200\n",
            "\u001b[1m375/375\u001b[0m \u001b[32m━━━━━━━━━━━━━━━━━━━━\u001b[0m\u001b[37m\u001b[0m \u001b[1m16s\u001b[0m 42ms/step - image1_output_accuracy: 0.8588 - image1_output_loss: 9.8110e-04 - image2_output_accuracy: 0.6230 - image2_output_loss: 0.0011 - loss: 0.0021 - val_image1_output_accuracy: 0.8593 - val_image1_output_loss: 0.0012 - val_image2_output_accuracy: 0.6246 - val_image2_output_loss: 0.0016 - val_loss: 0.0028 - learning_rate: 0.0010\n",
            "Epoch 6/200\n",
            "\u001b[1m375/375\u001b[0m \u001b[32m━━━━━━━━━━━━━━━━━━━━\u001b[0m\u001b[37m\u001b[0m \u001b[1m16s\u001b[0m 42ms/step - image1_output_accuracy: 0.8593 - image1_output_loss: 9.2356e-04 - image2_output_accuracy: 0.6254 - image2_output_loss: 0.0011 - loss: 0.0020 - val_image1_output_accuracy: 0.8586 - val_image1_output_loss: 9.5582e-04 - val_image2_output_accuracy: 0.6270 - val_image2_output_loss: 0.0012 - val_loss: 0.0022 - learning_rate: 0.0010\n",
            "Epoch 7/200\n",
            "\u001b[1m375/375\u001b[0m \u001b[32m━━━━━━━━━━━━━━━━━━━━\u001b[0m\u001b[37m\u001b[0m \u001b[1m16s\u001b[0m 42ms/step - image1_output_accuracy: 0.8593 - image1_output_loss: 8.5088e-04 - image2_output_accuracy: 0.6250 - image2_output_loss: 9.9897e-04 - loss: 0.0018 - val_image1_output_accuracy: 0.8584 - val_image1_output_loss: 8.9750e-04 - val_image2_output_accuracy: 0.6257 - val_image2_output_loss: 9.8083e-04 - val_loss: 0.0019 - learning_rate: 0.0010\n",
            "Epoch 8/200\n",
            "\u001b[1m375/375\u001b[0m \u001b[32m━━━━━━━━━━━━━━━━━━━━\u001b[0m\u001b[37m\u001b[0m \u001b[1m16s\u001b[0m 42ms/step - image1_output_accuracy: 0.8586 - image1_output_loss: 7.8996e-04 - image2_output_accuracy: 0.6251 - image2_output_loss: 9.2979e-04 - loss: 0.0017 - val_image1_output_accuracy: 0.8581 - val_image1_output_loss: 8.5979e-04 - val_image2_output_accuracy: 0.6238 - val_image2_output_loss: 9.9266e-04 - val_loss: 0.0019 - learning_rate: 0.0010\n",
            "Epoch 9/200\n",
            "\u001b[1m375/375\u001b[0m \u001b[32m━━━━━━━━━━━━━━━━━━━━\u001b[0m\u001b[37m\u001b[0m \u001b[1m16s\u001b[0m 42ms/step - image1_output_accuracy: 0.8584 - image1_output_loss: 7.6142e-04 - image2_output_accuracy: 0.6243 - image2_output_loss: 8.9948e-04 - loss: 0.0017 - val_image1_output_accuracy: 0.8585 - val_image1_output_loss: 7.6145e-04 - val_image2_output_accuracy: 0.6259 - val_image2_output_loss: 0.0012 - val_loss: 0.0020 - learning_rate: 0.0010\n",
            "Epoch 10/200\n",
            "\u001b[1m375/375\u001b[0m \u001b[32m━━━━━━━━━━━━━━━━━━━━\u001b[0m\u001b[37m\u001b[0m \u001b[1m16s\u001b[0m 42ms/step - image1_output_accuracy: 0.8584 - image1_output_loss: 7.5373e-04 - image2_output_accuracy: 0.6256 - image2_output_loss: 8.8746e-04 - loss: 0.0016 - val_image1_output_accuracy: 0.8585 - val_image1_output_loss: 7.7775e-04 - val_image2_output_accuracy: 0.6235 - val_image2_output_loss: 0.0012 - val_loss: 0.0020 - learning_rate: 0.0010\n",
            "Epoch 11/200\n",
            "\u001b[1m375/375\u001b[0m \u001b[32m━━━━━━━━━━━━━━━━━━━━\u001b[0m\u001b[37m\u001b[0m \u001b[1m16s\u001b[0m 43ms/step - image1_output_accuracy: 0.8586 - image1_output_loss: 6.9666e-04 - image2_output_accuracy: 0.6257 - image2_output_loss: 8.1184e-04 - loss: 0.0015 - val_image1_output_accuracy: 0.8588 - val_image1_output_loss: 6.7587e-04 - val_image2_output_accuracy: 0.6263 - val_image2_output_loss: 9.7721e-04 - val_loss: 0.0017 - learning_rate: 0.0010\n",
            "Epoch 12/200\n",
            "\u001b[1m375/375\u001b[0m \u001b[32m━━━━━━━━━━━━━━━━━━━━\u001b[0m\u001b[37m\u001b[0m \u001b[1m16s\u001b[0m 43ms/step - image1_output_accuracy: 0.8585 - image1_output_loss: 6.8916e-04 - image2_output_accuracy: 0.6248 - image2_output_loss: 8.3848e-04 - loss: 0.0015 - val_image1_output_accuracy: 0.8587 - val_image1_output_loss: 6.9583e-04 - val_image2_output_accuracy: 0.6268 - val_image2_output_loss: 8.4212e-04 - val_loss: 0.0015 - learning_rate: 0.0010\n",
            "Epoch 13/200\n",
            "\u001b[1m375/375\u001b[0m \u001b[32m━━━━━━━━━━━━━━━━━━━━\u001b[0m\u001b[37m\u001b[0m \u001b[1m16s\u001b[0m 42ms/step - image1_output_accuracy: 0.8590 - image1_output_loss: 6.5890e-04 - image2_output_accuracy: 0.6250 - image2_output_loss: 7.9571e-04 - loss: 0.0015 - val_image1_output_accuracy: 0.8589 - val_image1_output_loss: 6.9482e-04 - val_image2_output_accuracy: 0.6270 - val_image2_output_loss: 8.5464e-04 - val_loss: 0.0015 - learning_rate: 0.0010\n",
            "Epoch 14/200\n",
            "\u001b[1m375/375\u001b[0m \u001b[32m━━━━━━━━━━━━━━━━━━━━\u001b[0m\u001b[37m\u001b[0m \u001b[1m16s\u001b[0m 42ms/step - image1_output_accuracy: 0.8582 - image1_output_loss: 6.5155e-04 - image2_output_accuracy: 0.6250 - image2_output_loss: 7.9064e-04 - loss: 0.0014 - val_image1_output_accuracy: 0.8590 - val_image1_output_loss: 6.4743e-04 - val_image2_output_accuracy: 0.6247 - val_image2_output_loss: 0.0011 - val_loss: 0.0017 - learning_rate: 0.0010\n",
            "Epoch 15/200\n",
            "\u001b[1m375/375\u001b[0m \u001b[32m━━━━━━━━━━━━━━━━━━━━\u001b[0m\u001b[37m\u001b[0m \u001b[1m16s\u001b[0m 43ms/step - image1_output_accuracy: 0.8591 - image1_output_loss: 6.3584e-04 - image2_output_accuracy: 0.6245 - image2_output_loss: 7.7181e-04 - loss: 0.0014 - val_image1_output_accuracy: 0.8585 - val_image1_output_loss: 6.6139e-04 - val_image2_output_accuracy: 0.6256 - val_image2_output_loss: 7.9353e-04 - val_loss: 0.0015 - learning_rate: 0.0010\n",
            "Epoch 16/200\n",
            "\u001b[1m375/375\u001b[0m \u001b[32m━━━━━━━━━━━━━━━━━━━━\u001b[0m\u001b[37m\u001b[0m \u001b[1m16s\u001b[0m 42ms/step - image1_output_accuracy: 0.8583 - image1_output_loss: 6.1818e-04 - image2_output_accuracy: 0.6257 - image2_output_loss: 7.2475e-04 - loss: 0.0013 - val_image1_output_accuracy: 0.8583 - val_image1_output_loss: 7.8499e-04 - val_image2_output_accuracy: 0.6257 - val_image2_output_loss: 0.0011 - val_loss: 0.0019 - learning_rate: 0.0010\n",
            "Epoch 17/200\n",
            "\u001b[1m375/375\u001b[0m \u001b[32m━━━━━━━━━━━━━━━━━━━━\u001b[0m\u001b[37m\u001b[0m \u001b[1m16s\u001b[0m 42ms/step - image1_output_accuracy: 0.8585 - image1_output_loss: 5.9877e-04 - image2_output_accuracy: 0.6252 - image2_output_loss: 7.0580e-04 - loss: 0.0013 - val_image1_output_accuracy: 0.8580 - val_image1_output_loss: 6.6084e-04 - val_image2_output_accuracy: 0.6264 - val_image2_output_loss: 0.0011 - val_loss: 0.0018 - learning_rate: 0.0010\n",
            "Epoch 18/200\n",
            "\u001b[1m375/375\u001b[0m \u001b[32m━━━━━━━━━━━━━━━━━━━━\u001b[0m\u001b[37m\u001b[0m \u001b[1m16s\u001b[0m 43ms/step - image1_output_accuracy: 0.8587 - image1_output_loss: 5.7534e-04 - image2_output_accuracy: 0.6250 - image2_output_loss: 6.8718e-04 - loss: 0.0013 - val_image1_output_accuracy: 0.8591 - val_image1_output_loss: 5.7641e-04 - val_image2_output_accuracy: 0.6242 - val_image2_output_loss: 6.5369e-04 - val_loss: 0.0012 - learning_rate: 0.0010\n",
            "Epoch 19/200\n",
            "\u001b[1m375/375\u001b[0m \u001b[32m━━━━━━━━━━━━━━━━━━━━\u001b[0m\u001b[37m\u001b[0m \u001b[1m16s\u001b[0m 42ms/step - image1_output_accuracy: 0.8590 - image1_output_loss: 5.5985e-04 - image2_output_accuracy: 0.6253 - image2_output_loss: 6.4889e-04 - loss: 0.0012 - val_image1_output_accuracy: 0.8592 - val_image1_output_loss: 5.6310e-04 - val_image2_output_accuracy: 0.6253 - val_image2_output_loss: 6.6975e-04 - val_loss: 0.0012 - learning_rate: 0.0010\n",
            "Epoch 20/200\n",
            "\u001b[1m375/375\u001b[0m \u001b[32m━━━━━━━━━━━━━━━━━━━━\u001b[0m\u001b[37m\u001b[0m \u001b[1m16s\u001b[0m 43ms/step - image1_output_accuracy: 0.8586 - image1_output_loss: 5.7263e-04 - image2_output_accuracy: 0.6243 - image2_output_loss: 6.8846e-04 - loss: 0.0013 - val_image1_output_accuracy: 0.8586 - val_image1_output_loss: 5.7266e-04 - val_image2_output_accuracy: 0.6234 - val_image2_output_loss: 6.3628e-04 - val_loss: 0.0012 - learning_rate: 0.0010\n",
            "Epoch 21/200\n",
            "\u001b[1m375/375\u001b[0m \u001b[32m━━━━━━━━━━━━━━━━━━━━\u001b[0m\u001b[37m\u001b[0m \u001b[1m16s\u001b[0m 43ms/step - image1_output_accuracy: 0.8589 - image1_output_loss: 5.6264e-04 - image2_output_accuracy: 0.6252 - image2_output_loss: 6.6171e-04 - loss: 0.0012 - val_image1_output_accuracy: 0.8593 - val_image1_output_loss: 5.4909e-04 - val_image2_output_accuracy: 0.6254 - val_image2_output_loss: 6.2633e-04 - val_loss: 0.0012 - learning_rate: 0.0010\n",
            "Epoch 22/200\n",
            "\u001b[1m375/375\u001b[0m \u001b[32m━━━━━━━━━━━━━━━━━━━━\u001b[0m\u001b[37m\u001b[0m \u001b[1m16s\u001b[0m 42ms/step - image1_output_accuracy: 0.8586 - image1_output_loss: 5.5888e-04 - image2_output_accuracy: 0.6241 - image2_output_loss: 6.5095e-04 - loss: 0.0012 - val_image1_output_accuracy: 0.8590 - val_image1_output_loss: 5.6903e-04 - val_image2_output_accuracy: 0.6266 - val_image2_output_loss: 8.9183e-04 - val_loss: 0.0015 - learning_rate: 0.0010\n",
            "Epoch 23/200\n",
            "\u001b[1m375/375\u001b[0m \u001b[32m━━━━━━━━━━━━━━━━━━━━\u001b[0m\u001b[37m\u001b[0m \u001b[1m16s\u001b[0m 43ms/step - image1_output_accuracy: 0.8591 - image1_output_loss: 5.2891e-04 - image2_output_accuracy: 0.6267 - image2_output_loss: 6.1139e-04 - loss: 0.0011 - val_image1_output_accuracy: 0.8589 - val_image1_output_loss: 5.4415e-04 - val_image2_output_accuracy: 0.6268 - val_image2_output_loss: 5.7356e-04 - val_loss: 0.0011 - learning_rate: 0.0010\n",
            "Epoch 24/200\n",
            "\u001b[1m375/375\u001b[0m \u001b[32m━━━━━━━━━━━━━━━━━━━━\u001b[0m\u001b[37m\u001b[0m \u001b[1m16s\u001b[0m 42ms/step - image1_output_accuracy: 0.8590 - image1_output_loss: 5.2103e-04 - image2_output_accuracy: 0.6250 - image2_output_loss: 6.0822e-04 - loss: 0.0011 - val_image1_output_accuracy: 0.8592 - val_image1_output_loss: 5.4706e-04 - val_image2_output_accuracy: 0.6250 - val_image2_output_loss: 6.6386e-04 - val_loss: 0.0012 - learning_rate: 0.0010\n",
            "Epoch 25/200\n",
            "\u001b[1m375/375\u001b[0m \u001b[32m━━━━━━━━━━━━━━━━━━━━\u001b[0m\u001b[37m\u001b[0m \u001b[1m16s\u001b[0m 42ms/step - image1_output_accuracy: 0.8587 - image1_output_loss: 5.3183e-04 - image2_output_accuracy: 0.6250 - image2_output_loss: 6.1664e-04 - loss: 0.0011 - val_image1_output_accuracy: 0.8581 - val_image1_output_loss: 5.2445e-04 - val_image2_output_accuracy: 0.6239 - val_image2_output_loss: 6.9185e-04 - val_loss: 0.0012 - learning_rate: 0.0010\n",
            "Epoch 26/200\n",
            "\u001b[1m375/375\u001b[0m \u001b[32m━━━━━━━━━━━━━━━━━━━━\u001b[0m\u001b[37m\u001b[0m \u001b[1m16s\u001b[0m 42ms/step - image1_output_accuracy: 0.8586 - image1_output_loss: 4.9936e-04 - image2_output_accuracy: 0.6235 - image2_output_loss: 5.8196e-04 - loss: 0.0011 - val_image1_output_accuracy: 0.8589 - val_image1_output_loss: 5.6167e-04 - val_image2_output_accuracy: 0.6258 - val_image2_output_loss: 0.0011 - val_loss: 0.0016 - learning_rate: 0.0010\n",
            "Epoch 27/200\n",
            "\u001b[1m375/375\u001b[0m \u001b[32m━━━━━━━━━━━━━━━━━━━━\u001b[0m\u001b[37m\u001b[0m \u001b[1m0s\u001b[0m 38ms/step - image1_output_accuracy: 0.8589 - image1_output_loss: 5.0924e-04 - image2_output_accuracy: 0.6261 - image2_output_loss: 5.7638e-04 - loss: 0.0011\n",
            "Epoch 27: ReduceLROnPlateau reducing learning rate to 0.0004000000189989805.\n",
            "\u001b[1m375/375\u001b[0m \u001b[32m━━━━━━━━━━━━━━━━━━━━\u001b[0m\u001b[37m\u001b[0m \u001b[1m16s\u001b[0m 42ms/step - image1_output_accuracy: 0.8589 - image1_output_loss: 5.0923e-04 - image2_output_accuracy: 0.6261 - image2_output_loss: 5.7635e-04 - loss: 0.0011 - val_image1_output_accuracy: 0.8587 - val_image1_output_loss: 5.5245e-04 - val_image2_output_accuracy: 0.6236 - val_image2_output_loss: 6.2572e-04 - val_loss: 0.0012 - learning_rate: 0.0010\n",
            "Epoch 28/200\n",
            "\u001b[1m375/375\u001b[0m \u001b[32m━━━━━━━━━━━━━━━━━━━━\u001b[0m\u001b[37m\u001b[0m \u001b[1m16s\u001b[0m 42ms/step - image1_output_accuracy: 0.8583 - image1_output_loss: 4.5264e-04 - image2_output_accuracy: 0.6253 - image2_output_loss: 5.0309e-04 - loss: 9.5574e-04 - val_image1_output_accuracy: 0.8588 - val_image1_output_loss: 4.7593e-04 - val_image2_output_accuracy: 0.6252 - val_image2_output_loss: 6.7416e-04 - val_loss: 0.0012 - learning_rate: 4.0000e-04\n",
            "Epoch 29/200\n",
            "\u001b[1m375/375\u001b[0m \u001b[32m━━━━━━━━━━━━━━━━━━━━\u001b[0m\u001b[37m\u001b[0m \u001b[1m16s\u001b[0m 43ms/step - image1_output_accuracy: 0.8583 - image1_output_loss: 4.5207e-04 - image2_output_accuracy: 0.6248 - image2_output_loss: 5.0026e-04 - loss: 9.5233e-04 - val_image1_output_accuracy: 0.8591 - val_image1_output_loss: 4.5020e-04 - val_image2_output_accuracy: 0.6249 - val_image2_output_loss: 4.8976e-04 - val_loss: 9.3996e-04 - learning_rate: 4.0000e-04\n",
            "Epoch 30/200\n",
            "\u001b[1m375/375\u001b[0m \u001b[32m━━━━━━━━━━━━━━━━━━━━\u001b[0m\u001b[37m\u001b[0m \u001b[1m16s\u001b[0m 42ms/step - image1_output_accuracy: 0.8587 - image1_output_loss: 4.4209e-04 - image2_output_accuracy: 0.6237 - image2_output_loss: 4.8940e-04 - loss: 9.3149e-04 - val_image1_output_accuracy: 0.8587 - val_image1_output_loss: 4.4684e-04 - val_image2_output_accuracy: 0.6266 - val_image2_output_loss: 5.1437e-04 - val_loss: 9.6121e-04 - learning_rate: 4.0000e-04\n",
            "Epoch 31/200\n",
            "\u001b[1m375/375\u001b[0m \u001b[32m━━━━━━━━━━━━━━━━━━━━\u001b[0m\u001b[37m\u001b[0m \u001b[1m16s\u001b[0m 42ms/step - image1_output_accuracy: 0.8588 - image1_output_loss: 4.3492e-04 - image2_output_accuracy: 0.6241 - image2_output_loss: 4.8548e-04 - loss: 9.2040e-04 - val_image1_output_accuracy: 0.8592 - val_image1_output_loss: 4.4848e-04 - val_image2_output_accuracy: 0.6267 - val_image2_output_loss: 5.2137e-04 - val_loss: 9.6984e-04 - learning_rate: 4.0000e-04\n",
            "Epoch 32/200\n",
            "\u001b[1m375/375\u001b[0m \u001b[32m━━━━━━━━━━━━━━━━━━━━\u001b[0m\u001b[37m\u001b[0m \u001b[1m16s\u001b[0m 42ms/step - image1_output_accuracy: 0.8585 - image1_output_loss: 4.4374e-04 - image2_output_accuracy: 0.6241 - image2_output_loss: 4.9393e-04 - loss: 9.3767e-04 - val_image1_output_accuracy: 0.8586 - val_image1_output_loss: 4.5287e-04 - val_image2_output_accuracy: 0.6245 - val_image2_output_loss: 4.9399e-04 - val_loss: 9.4685e-04 - learning_rate: 4.0000e-04\n",
            "Epoch 33/200\n",
            "\u001b[1m375/375\u001b[0m \u001b[32m━━━━━━━━━━━━━━━━━━━━\u001b[0m\u001b[37m\u001b[0m \u001b[1m16s\u001b[0m 43ms/step - image1_output_accuracy: 0.8590 - image1_output_loss: 4.4576e-04 - image2_output_accuracy: 0.6238 - image2_output_loss: 4.9392e-04 - loss: 9.3968e-04 - val_image1_output_accuracy: 0.8588 - val_image1_output_loss: 4.3871e-04 - val_image2_output_accuracy: 0.6265 - val_image2_output_loss: 4.7245e-04 - val_loss: 9.1116e-04 - learning_rate: 4.0000e-04\n",
            "Epoch 34/200\n",
            "\u001b[1m375/375\u001b[0m \u001b[32m━━━━━━━━━━━━━━━━━━━━\u001b[0m\u001b[37m\u001b[0m \u001b[1m16s\u001b[0m 42ms/step - image1_output_accuracy: 0.8591 - image1_output_loss: 4.3012e-04 - image2_output_accuracy: 0.6258 - image2_output_loss: 4.7601e-04 - loss: 9.0613e-04 - val_image1_output_accuracy: 0.8584 - val_image1_output_loss: 4.5598e-04 - val_image2_output_accuracy: 0.6236 - val_image2_output_loss: 5.2572e-04 - val_loss: 9.8170e-04 - learning_rate: 4.0000e-04\n",
            "Epoch 35/200\n",
            "\u001b[1m375/375\u001b[0m \u001b[32m━━━━━━━━━━━━━━━━━━━━\u001b[0m\u001b[37m\u001b[0m \u001b[1m16s\u001b[0m 42ms/step - image1_output_accuracy: 0.8587 - image1_output_loss: 4.3587e-04 - image2_output_accuracy: 0.6251 - image2_output_loss: 4.8132e-04 - loss: 9.1719e-04 - val_image1_output_accuracy: 0.8583 - val_image1_output_loss: 4.3833e-04 - val_image2_output_accuracy: 0.6262 - val_image2_output_loss: 5.4922e-04 - val_loss: 9.8755e-04 - learning_rate: 4.0000e-04\n",
            "Epoch 36/200\n",
            "\u001b[1m375/375\u001b[0m \u001b[32m━━━━━━━━━━━━━━━━━━━━\u001b[0m\u001b[37m\u001b[0m \u001b[1m16s\u001b[0m 43ms/step - image1_output_accuracy: 0.8590 - image1_output_loss: 4.2516e-04 - image2_output_accuracy: 0.6252 - image2_output_loss: 4.6888e-04 - loss: 8.9404e-04 - val_image1_output_accuracy: 0.8588 - val_image1_output_loss: 4.3319e-04 - val_image2_output_accuracy: 0.6240 - val_image2_output_loss: 4.6184e-04 - val_loss: 8.9503e-04 - learning_rate: 4.0000e-04\n",
            "Epoch 37/200\n",
            "\u001b[1m375/375\u001b[0m \u001b[32m━━━━━━━━━━━━━━━━━━━━\u001b[0m\u001b[37m\u001b[0m \u001b[1m16s\u001b[0m 42ms/step - image1_output_accuracy: 0.8584 - image1_output_loss: 4.2087e-04 - image2_output_accuracy: 0.6245 - image2_output_loss: 4.6338e-04 - loss: 8.8425e-04 - val_image1_output_accuracy: 0.8587 - val_image1_output_loss: 4.3519e-04 - val_image2_output_accuracy: 0.6240 - val_image2_output_loss: 4.6506e-04 - val_loss: 9.0026e-04 - learning_rate: 4.0000e-04\n",
            "Epoch 38/200\n",
            "\u001b[1m375/375\u001b[0m \u001b[32m━━━━━━━━━━━━━━━━━━━━\u001b[0m\u001b[37m\u001b[0m \u001b[1m16s\u001b[0m 43ms/step - image1_output_accuracy: 0.8588 - image1_output_loss: 4.2138e-04 - image2_output_accuracy: 0.6244 - image2_output_loss: 4.5851e-04 - loss: 8.7989e-04 - val_image1_output_accuracy: 0.8587 - val_image1_output_loss: 4.2808e-04 - val_image2_output_accuracy: 0.6247 - val_image2_output_loss: 4.5071e-04 - val_loss: 8.7879e-04 - learning_rate: 4.0000e-04\n",
            "Epoch 39/200\n",
            "\u001b[1m375/375\u001b[0m \u001b[32m━━━━━━━━━━━━━━━━━━━━\u001b[0m\u001b[37m\u001b[0m \u001b[1m16s\u001b[0m 42ms/step - image1_output_accuracy: 0.8588 - image1_output_loss: 4.1995e-04 - image2_output_accuracy: 0.6246 - image2_output_loss: 4.6573e-04 - loss: 8.8568e-04 - val_image1_output_accuracy: 0.8586 - val_image1_output_loss: 4.4737e-04 - val_image2_output_accuracy: 0.6269 - val_image2_output_loss: 5.3369e-04 - val_loss: 9.8106e-04 - learning_rate: 4.0000e-04\n",
            "Epoch 40/200\n",
            "\u001b[1m375/375\u001b[0m \u001b[32m━━━━━━━━━━━━━━━━━━━━\u001b[0m\u001b[37m\u001b[0m \u001b[1m16s\u001b[0m 42ms/step - image1_output_accuracy: 0.8590 - image1_output_loss: 4.2028e-04 - image2_output_accuracy: 0.6252 - image2_output_loss: 4.8770e-04 - loss: 9.0797e-04 - val_image1_output_accuracy: 0.8587 - val_image1_output_loss: 4.2944e-04 - val_image2_output_accuracy: 0.6271 - val_image2_output_loss: 5.1284e-04 - val_loss: 9.4228e-04 - learning_rate: 4.0000e-04\n",
            "Epoch 41/200\n",
            "\u001b[1m375/375\u001b[0m \u001b[32m━━━━━━━━━━━━━━━━━━━━\u001b[0m\u001b[37m\u001b[0m \u001b[1m16s\u001b[0m 43ms/step - image1_output_accuracy: 0.8582 - image1_output_loss: 4.1091e-04 - image2_output_accuracy: 0.6257 - image2_output_loss: 4.5202e-04 - loss: 8.6293e-04 - val_image1_output_accuracy: 0.8589 - val_image1_output_loss: 4.2100e-04 - val_image2_output_accuracy: 0.6285 - val_image2_output_loss: 4.4728e-04 - val_loss: 8.6828e-04 - learning_rate: 4.0000e-04\n",
            "Epoch 42/200\n",
            "\u001b[1m375/375\u001b[0m \u001b[32m━━━━━━━━━━━━━━━━━━━━\u001b[0m\u001b[37m\u001b[0m \u001b[1m16s\u001b[0m 42ms/step - image1_output_accuracy: 0.8587 - image1_output_loss: 4.1282e-04 - image2_output_accuracy: 0.6243 - image2_output_loss: 4.5020e-04 - loss: 8.6302e-04 - val_image1_output_accuracy: 0.8590 - val_image1_output_loss: 4.4010e-04 - val_image2_output_accuracy: 0.6266 - val_image2_output_loss: 4.7420e-04 - val_loss: 9.1430e-04 - learning_rate: 4.0000e-04\n",
            "Epoch 43/200\n",
            "\u001b[1m375/375\u001b[0m \u001b[32m━━━━━━━━━━━━━━━━━━━━\u001b[0m\u001b[37m\u001b[0m \u001b[1m16s\u001b[0m 42ms/step - image1_output_accuracy: 0.8582 - image1_output_loss: 4.0841e-04 - image2_output_accuracy: 0.6249 - image2_output_loss: 4.4606e-04 - loss: 8.5448e-04 - val_image1_output_accuracy: 0.8593 - val_image1_output_loss: 4.2750e-04 - val_image2_output_accuracy: 0.6244 - val_image2_output_loss: 4.6870e-04 - val_loss: 8.9620e-04 - learning_rate: 4.0000e-04\n",
            "Epoch 44/200\n",
            "\u001b[1m375/375\u001b[0m \u001b[32m━━━━━━━━━━━━━━━━━━━━\u001b[0m\u001b[37m\u001b[0m \u001b[1m16s\u001b[0m 42ms/step - image1_output_accuracy: 0.8584 - image1_output_loss: 4.0945e-04 - image2_output_accuracy: 0.6256 - image2_output_loss: 4.5185e-04 - loss: 8.6130e-04 - val_image1_output_accuracy: 0.8588 - val_image1_output_loss: 4.2206e-04 - val_image2_output_accuracy: 0.6265 - val_image2_output_loss: 4.7068e-04 - val_loss: 8.9274e-04 - learning_rate: 4.0000e-04\n",
            "Epoch 45/200\n",
            "\u001b[1m375/375\u001b[0m \u001b[32m━━━━━━━━━━━━━━━━━━━━\u001b[0m\u001b[37m\u001b[0m \u001b[1m16s\u001b[0m 43ms/step - image1_output_accuracy: 0.8583 - image1_output_loss: 4.1280e-04 - image2_output_accuracy: 0.6248 - image2_output_loss: 4.5392e-04 - loss: 8.6672e-04 - val_image1_output_accuracy: 0.8588 - val_image1_output_loss: 4.1941e-04 - val_image2_output_accuracy: 0.6246 - val_image2_output_loss: 4.4736e-04 - val_loss: 8.6677e-04 - learning_rate: 4.0000e-04\n",
            "Epoch 46/200\n",
            "\u001b[1m375/375\u001b[0m \u001b[32m━━━━━━━━━━━━━━━━━━━━\u001b[0m\u001b[37m\u001b[0m \u001b[1m16s\u001b[0m 43ms/step - image1_output_accuracy: 0.8587 - image1_output_loss: 4.0861e-04 - image2_output_accuracy: 0.6245 - image2_output_loss: 4.4453e-04 - loss: 8.5314e-04 - val_image1_output_accuracy: 0.8584 - val_image1_output_loss: 4.2304e-04 - val_image2_output_accuracy: 0.6253 - val_image2_output_loss: 4.4024e-04 - val_loss: 8.6328e-04 - learning_rate: 4.0000e-04\n",
            "Epoch 47/200\n",
            "\u001b[1m375/375\u001b[0m \u001b[32m━━━━━━━━━━━━━━━━━━━━\u001b[0m\u001b[37m\u001b[0m \u001b[1m16s\u001b[0m 42ms/step - image1_output_accuracy: 0.8584 - image1_output_loss: 4.0493e-04 - image2_output_accuracy: 0.6248 - image2_output_loss: 4.4273e-04 - loss: 8.4766e-04 - val_image1_output_accuracy: 0.8587 - val_image1_output_loss: 4.2079e-04 - val_image2_output_accuracy: 0.6259 - val_image2_output_loss: 4.4991e-04 - val_loss: 8.7070e-04 - learning_rate: 4.0000e-04\n",
            "Epoch 48/200\n",
            "\u001b[1m375/375\u001b[0m \u001b[32m━━━━━━━━━━━━━━━━━━━━\u001b[0m\u001b[37m\u001b[0m \u001b[1m16s\u001b[0m 43ms/step - image1_output_accuracy: 0.8585 - image1_output_loss: 4.0153e-04 - image2_output_accuracy: 0.6233 - image2_output_loss: 4.4113e-04 - loss: 8.4267e-04 - val_image1_output_accuracy: 0.8589 - val_image1_output_loss: 4.0632e-04 - val_image2_output_accuracy: 0.6260 - val_image2_output_loss: 4.2950e-04 - val_loss: 8.3582e-04 - learning_rate: 4.0000e-04\n",
            "Epoch 49/200\n",
            "\u001b[1m375/375\u001b[0m \u001b[32m━━━━━━━━━━━━━━━━━━━━\u001b[0m\u001b[37m\u001b[0m \u001b[1m16s\u001b[0m 42ms/step - image1_output_accuracy: 0.8586 - image1_output_loss: 4.0119e-04 - image2_output_accuracy: 0.6250 - image2_output_loss: 4.3537e-04 - loss: 8.3657e-04 - val_image1_output_accuracy: 0.8587 - val_image1_output_loss: 4.1982e-04 - val_image2_output_accuracy: 0.6252 - val_image2_output_loss: 4.5881e-04 - val_loss: 8.7863e-04 - learning_rate: 4.0000e-04\n",
            "Epoch 50/200\n",
            "\u001b[1m375/375\u001b[0m \u001b[32m━━━━━━━━━━━━━━━━━━━━\u001b[0m\u001b[37m\u001b[0m \u001b[1m16s\u001b[0m 42ms/step - image1_output_accuracy: 0.8593 - image1_output_loss: 3.9710e-04 - image2_output_accuracy: 0.6254 - image2_output_loss: 4.3723e-04 - loss: 8.3434e-04 - val_image1_output_accuracy: 0.8590 - val_image1_output_loss: 4.1444e-04 - val_image2_output_accuracy: 0.6252 - val_image2_output_loss: 4.4029e-04 - val_loss: 8.5472e-04 - learning_rate: 4.0000e-04\n",
            "Epoch 51/200\n",
            "\u001b[1m375/375\u001b[0m \u001b[32m━━━━━━━━━━━━━━━━━━━━\u001b[0m\u001b[37m\u001b[0m \u001b[1m16s\u001b[0m 42ms/step - image1_output_accuracy: 0.8588 - image1_output_loss: 4.0031e-04 - image2_output_accuracy: 0.6250 - image2_output_loss: 4.3958e-04 - loss: 8.3989e-04 - val_image1_output_accuracy: 0.8589 - val_image1_output_loss: 4.1157e-04 - val_image2_output_accuracy: 0.6252 - val_image2_output_loss: 4.4116e-04 - val_loss: 8.5273e-04 - learning_rate: 4.0000e-04\n",
            "Epoch 52/200\n",
            "\u001b[1m375/375\u001b[0m \u001b[32m━━━━━━━━━━━━━━━━━━━━\u001b[0m\u001b[37m\u001b[0m \u001b[1m0s\u001b[0m 39ms/step - image1_output_accuracy: 0.8586 - image1_output_loss: 4.0180e-04 - image2_output_accuracy: 0.6257 - image2_output_loss: 4.3341e-04 - loss: 8.3520e-04\n",
            "Epoch 52: ReduceLROnPlateau reducing learning rate to 0.00016000000759959222.\n",
            "\u001b[1m375/375\u001b[0m \u001b[32m━━━━━━━━━━━━━━━━━━━━\u001b[0m\u001b[37m\u001b[0m \u001b[1m16s\u001b[0m 42ms/step - image1_output_accuracy: 0.8586 - image1_output_loss: 4.0178e-04 - image2_output_accuracy: 0.6257 - image2_output_loss: 4.3340e-04 - loss: 8.3518e-04 - val_image1_output_accuracy: 0.8586 - val_image1_output_loss: 4.0735e-04 - val_image2_output_accuracy: 0.6261 - val_image2_output_loss: 4.6647e-04 - val_loss: 8.7382e-04 - learning_rate: 4.0000e-04\n",
            "Epoch 53/200\n",
            "\u001b[1m375/375\u001b[0m \u001b[32m━━━━━━━━━━━━━━━━━━━━\u001b[0m\u001b[37m\u001b[0m \u001b[1m16s\u001b[0m 42ms/step - image1_output_accuracy: 0.8590 - image1_output_loss: 3.7916e-04 - image2_output_accuracy: 0.6253 - image2_output_loss: 4.0599e-04 - loss: 7.8514e-04 - val_image1_output_accuracy: 0.8591 - val_image1_output_loss: 3.9640e-04 - val_image2_output_accuracy: 0.6238 - val_image2_output_loss: 4.4268e-04 - val_loss: 8.3907e-04 - learning_rate: 1.6000e-04\n",
            "Epoch 54/200\n",
            "\u001b[1m375/375\u001b[0m \u001b[32m━━━━━━━━━━━━━━━━━━━━\u001b[0m\u001b[37m\u001b[0m \u001b[1m16s\u001b[0m 43ms/step - image1_output_accuracy: 0.8588 - image1_output_loss: 3.7908e-04 - image2_output_accuracy: 0.6245 - image2_output_loss: 4.0434e-04 - loss: 7.8342e-04 - val_image1_output_accuracy: 0.8583 - val_image1_output_loss: 3.8934e-04 - val_image2_output_accuracy: 0.6252 - val_image2_output_loss: 4.2971e-04 - val_loss: 8.1905e-04 - learning_rate: 1.6000e-04\n",
            "Epoch 55/200\n",
            "\u001b[1m375/375\u001b[0m \u001b[32m━━━━━━━━━━━━━━━━━━━━\u001b[0m\u001b[37m\u001b[0m \u001b[1m16s\u001b[0m 43ms/step - image1_output_accuracy: 0.8586 - image1_output_loss: 3.8236e-04 - image2_output_accuracy: 0.6243 - image2_output_loss: 4.0846e-04 - loss: 7.9082e-04 - val_image1_output_accuracy: 0.8585 - val_image1_output_loss: 3.8593e-04 - val_image2_output_accuracy: 0.6257 - val_image2_output_loss: 4.0789e-04 - val_loss: 7.9382e-04 - learning_rate: 1.6000e-04\n",
            "Epoch 56/200\n",
            "\u001b[1m375/375\u001b[0m \u001b[32m━━━━━━━━━━━━━━━━━━━━\u001b[0m\u001b[37m\u001b[0m \u001b[1m16s\u001b[0m 42ms/step - image1_output_accuracy: 0.8581 - image1_output_loss: 3.7559e-04 - image2_output_accuracy: 0.6232 - image2_output_loss: 4.0304e-04 - loss: 7.7863e-04 - val_image1_output_accuracy: 0.8593 - val_image1_output_loss: 3.8932e-04 - val_image2_output_accuracy: 0.6236 - val_image2_output_loss: 4.2515e-04 - val_loss: 8.1448e-04 - learning_rate: 1.6000e-04\n",
            "Epoch 57/200\n",
            "\u001b[1m375/375\u001b[0m \u001b[32m━━━━━━━━━━━━━━━━━━━━\u001b[0m\u001b[37m\u001b[0m \u001b[1m16s\u001b[0m 43ms/step - image1_output_accuracy: 0.8587 - image1_output_loss: 3.7159e-04 - image2_output_accuracy: 0.6255 - image2_output_loss: 3.9697e-04 - loss: 7.6856e-04 - val_image1_output_accuracy: 0.8595 - val_image1_output_loss: 3.7801e-04 - val_image2_output_accuracy: 0.6252 - val_image2_output_loss: 3.9553e-04 - val_loss: 7.7355e-04 - learning_rate: 1.6000e-04\n",
            "Epoch 58/200\n",
            "\u001b[1m375/375\u001b[0m \u001b[32m━━━━━━━━━━━━━━━━━━━━\u001b[0m\u001b[37m\u001b[0m \u001b[1m16s\u001b[0m 42ms/step - image1_output_accuracy: 0.8586 - image1_output_loss: 3.7263e-04 - image2_output_accuracy: 0.6253 - image2_output_loss: 3.9800e-04 - loss: 7.7063e-04 - val_image1_output_accuracy: 0.8591 - val_image1_output_loss: 3.9161e-04 - val_image2_output_accuracy: 0.6262 - val_image2_output_loss: 4.3182e-04 - val_loss: 8.2343e-04 - learning_rate: 1.6000e-04\n",
            "Epoch 59/200\n",
            "\u001b[1m375/375\u001b[0m \u001b[32m━━━━━━━━━━━━━━━━━━━━\u001b[0m\u001b[37m\u001b[0m \u001b[1m16s\u001b[0m 42ms/step - image1_output_accuracy: 0.8587 - image1_output_loss: 3.7412e-04 - image2_output_accuracy: 0.6253 - image2_output_loss: 3.9941e-04 - loss: 7.7353e-04 - val_image1_output_accuracy: 0.8590 - val_image1_output_loss: 3.8424e-04 - val_image2_output_accuracy: 0.6240 - val_image2_output_loss: 4.0338e-04 - val_loss: 7.8762e-04 - learning_rate: 1.6000e-04\n",
            "Epoch 60/200\n",
            "\u001b[1m375/375\u001b[0m \u001b[32m━━━━━━━━━━━━━━━━━━━━\u001b[0m\u001b[37m\u001b[0m \u001b[1m16s\u001b[0m 42ms/step - image1_output_accuracy: 0.8589 - image1_output_loss: 3.6843e-04 - image2_output_accuracy: 0.6248 - image2_output_loss: 3.9339e-04 - loss: 7.6182e-04 - val_image1_output_accuracy: 0.8591 - val_image1_output_loss: 3.8563e-04 - val_image2_output_accuracy: 0.6265 - val_image2_output_loss: 4.0684e-04 - val_loss: 7.9247e-04 - learning_rate: 1.6000e-04\n",
            "Epoch 61/200\n",
            "\u001b[1m375/375\u001b[0m \u001b[32m━━━━━━━━━━━━━━━━━━━━\u001b[0m\u001b[37m\u001b[0m \u001b[1m0s\u001b[0m 39ms/step - image1_output_accuracy: 0.8590 - image1_output_loss: 3.7424e-04 - image2_output_accuracy: 0.6231 - image2_output_loss: 4.0007e-04 - loss: 7.7431e-04\n",
            "Epoch 61: ReduceLROnPlateau reducing learning rate to 6.40000042039901e-05.\n",
            "\u001b[1m375/375\u001b[0m \u001b[32m━━━━━━━━━━━━━━━━━━━━\u001b[0m\u001b[37m\u001b[0m \u001b[1m16s\u001b[0m 42ms/step - image1_output_accuracy: 0.8590 - image1_output_loss: 3.7423e-04 - image2_output_accuracy: 0.6231 - image2_output_loss: 4.0007e-04 - loss: 7.7430e-04 - val_image1_output_accuracy: 0.8590 - val_image1_output_loss: 3.8185e-04 - val_image2_output_accuracy: 0.6256 - val_image2_output_loss: 3.9935e-04 - val_loss: 7.8120e-04 - learning_rate: 1.6000e-04\n",
            "Epoch 62/200\n",
            "\u001b[1m375/375\u001b[0m \u001b[32m━━━━━━━━━━━━━━━━━━━━\u001b[0m\u001b[37m\u001b[0m \u001b[1m16s\u001b[0m 42ms/step - image1_output_accuracy: 0.8592 - image1_output_loss: 3.6243e-04 - image2_output_accuracy: 0.6256 - image2_output_loss: 3.8560e-04 - loss: 7.4803e-04 - val_image1_output_accuracy: 0.8590 - val_image1_output_loss: 3.7367e-04 - val_image2_output_accuracy: 0.6242 - val_image2_output_loss: 4.0740e-04 - val_loss: 7.8108e-04 - learning_rate: 6.4000e-05\n",
            "Epoch 63/200\n",
            "\u001b[1m375/375\u001b[0m \u001b[32m━━━━━━━━━━━━━━━━━━━━\u001b[0m\u001b[37m\u001b[0m \u001b[1m16s\u001b[0m 43ms/step - image1_output_accuracy: 0.8584 - image1_output_loss: 3.6359e-04 - image2_output_accuracy: 0.6245 - image2_output_loss: 3.8552e-04 - loss: 7.4910e-04 - val_image1_output_accuracy: 0.8589 - val_image1_output_loss: 3.6985e-04 - val_image2_output_accuracy: 0.6264 - val_image2_output_loss: 3.9976e-04 - val_loss: 7.6961e-04 - learning_rate: 6.4000e-05\n",
            "Epoch 64/200\n",
            "\u001b[1m375/375\u001b[0m \u001b[32m━━━━━━━━━━━━━━━━━━━━\u001b[0m\u001b[37m\u001b[0m \u001b[1m16s\u001b[0m 42ms/step - image1_output_accuracy: 0.8589 - image1_output_loss: 3.6476e-04 - image2_output_accuracy: 0.6245 - image2_output_loss: 3.8667e-04 - loss: 7.5143e-04 - val_image1_output_accuracy: 0.8586 - val_image1_output_loss: 3.8140e-04 - val_image2_output_accuracy: 0.6236 - val_image2_output_loss: 4.0472e-04 - val_loss: 7.8612e-04 - learning_rate: 6.4000e-05\n",
            "Epoch 65/200\n",
            "\u001b[1m375/375\u001b[0m \u001b[32m━━━━━━━━━━━━━━━━━━━━\u001b[0m\u001b[37m\u001b[0m \u001b[1m16s\u001b[0m 42ms/step - image1_output_accuracy: 0.8584 - image1_output_loss: 3.6408e-04 - image2_output_accuracy: 0.6253 - image2_output_loss: 3.8504e-04 - loss: 7.4912e-04 - val_image1_output_accuracy: 0.8588 - val_image1_output_loss: 3.7646e-04 - val_image2_output_accuracy: 0.6246 - val_image2_output_loss: 3.9732e-04 - val_loss: 7.7378e-04 - learning_rate: 6.4000e-05\n",
            "Epoch 66/200\n",
            "\u001b[1m375/375\u001b[0m \u001b[32m━━━━━━━━━━━━━━━━━━━━\u001b[0m\u001b[37m\u001b[0m \u001b[1m16s\u001b[0m 42ms/step - image1_output_accuracy: 0.8583 - image1_output_loss: 3.6286e-04 - image2_output_accuracy: 0.6252 - image2_output_loss: 3.8573e-04 - loss: 7.4858e-04 - val_image1_output_accuracy: 0.8585 - val_image1_output_loss: 3.7882e-04 - val_image2_output_accuracy: 0.6245 - val_image2_output_loss: 4.0375e-04 - val_loss: 7.8257e-04 - learning_rate: 6.4000e-05\n",
            "Epoch 67/200\n",
            "\u001b[1m375/375\u001b[0m \u001b[32m━━━━━━━━━━━━━━━━━━━━\u001b[0m\u001b[37m\u001b[0m \u001b[1m0s\u001b[0m 39ms/step - image1_output_accuracy: 0.8585 - image1_output_loss: 3.6095e-04 - image2_output_accuracy: 0.6255 - image2_output_loss: 3.8205e-04 - loss: 7.4299e-04\n",
            "Epoch 67: ReduceLROnPlateau reducing learning rate to 2.560000284574926e-05.\n",
            "\u001b[1m375/375\u001b[0m \u001b[32m━━━━━━━━━━━━━━━━━━━━\u001b[0m\u001b[37m\u001b[0m \u001b[1m16s\u001b[0m 42ms/step - image1_output_accuracy: 0.8585 - image1_output_loss: 3.6094e-04 - image2_output_accuracy: 0.6254 - image2_output_loss: 3.8204e-04 - loss: 7.4299e-04 - val_image1_output_accuracy: 0.8594 - val_image1_output_loss: 3.7421e-04 - val_image2_output_accuracy: 0.6255 - val_image2_output_loss: 3.9750e-04 - val_loss: 7.7171e-04 - learning_rate: 6.4000e-05\n",
            "Epoch 68/200\n",
            "\u001b[1m375/375\u001b[0m \u001b[32m━━━━━━━━━━━━━━━━━━━━\u001b[0m\u001b[37m\u001b[0m \u001b[1m16s\u001b[0m 42ms/step - image1_output_accuracy: 0.8584 - image1_output_loss: 3.5602e-04 - image2_output_accuracy: 0.6242 - image2_output_loss: 3.7667e-04 - loss: 7.3268e-04 - val_image1_output_accuracy: 0.8593 - val_image1_output_loss: 3.7723e-04 - val_image2_output_accuracy: 0.6254 - val_image2_output_loss: 3.9610e-04 - val_loss: 7.7333e-04 - learning_rate: 2.5600e-05\n",
            "Epoch 69/200\n",
            "\u001b[1m375/375\u001b[0m \u001b[32m━━━━━━━━━━━━━━━━━━━━\u001b[0m\u001b[37m\u001b[0m \u001b[1m16s\u001b[0m 43ms/step - image1_output_accuracy: 0.8587 - image1_output_loss: 3.5988e-04 - image2_output_accuracy: 0.6232 - image2_output_loss: 3.8011e-04 - loss: 7.3999e-04 - val_image1_output_accuracy: 0.8586 - val_image1_output_loss: 3.7058e-04 - val_image2_output_accuracy: 0.6259 - val_image2_output_loss: 3.8933e-04 - val_loss: 7.5991e-04 - learning_rate: 2.5600e-05\n",
            "Epoch 70/200\n",
            "\u001b[1m375/375\u001b[0m \u001b[32m━━━━━━━━━━━━━━━━━━━━\u001b[0m\u001b[37m\u001b[0m \u001b[1m16s\u001b[0m 43ms/step - image1_output_accuracy: 0.8581 - image1_output_loss: 3.6880e-04 - image2_output_accuracy: 0.6254 - image2_output_loss: 3.8885e-04 - loss: 7.5764e-04 - val_image1_output_accuracy: 0.8588 - val_image1_output_loss: 3.6908e-04 - val_image2_output_accuracy: 0.6248 - val_image2_output_loss: 3.8524e-04 - val_loss: 7.5432e-04 - learning_rate: 2.5600e-05\n",
            "Epoch 71/200\n",
            "\u001b[1m375/375\u001b[0m \u001b[32m━━━━━━━━━━━━━━━━━━━━\u001b[0m\u001b[37m\u001b[0m \u001b[1m16s\u001b[0m 43ms/step - image1_output_accuracy: 0.8589 - image1_output_loss: 3.5349e-04 - image2_output_accuracy: 0.6247 - image2_output_loss: 3.7370e-04 - loss: 7.2719e-04 - val_image1_output_accuracy: 0.8590 - val_image1_output_loss: 3.6749e-04 - val_image2_output_accuracy: 0.6256 - val_image2_output_loss: 3.8629e-04 - val_loss: 7.5378e-04 - learning_rate: 2.5600e-05\n",
            "Epoch 72/200\n",
            "\u001b[1m375/375\u001b[0m \u001b[32m━━━━━━━━━━━━━━━━━━━━\u001b[0m\u001b[37m\u001b[0m \u001b[1m16s\u001b[0m 42ms/step - image1_output_accuracy: 0.8583 - image1_output_loss: 3.5722e-04 - image2_output_accuracy: 0.6254 - image2_output_loss: 3.7658e-04 - loss: 7.3380e-04 - val_image1_output_accuracy: 0.8590 - val_image1_output_loss: 3.7437e-04 - val_image2_output_accuracy: 0.6256 - val_image2_output_loss: 3.9010e-04 - val_loss: 7.6447e-04 - learning_rate: 2.5600e-05\n",
            "Epoch 73/200\n",
            "\u001b[1m375/375\u001b[0m \u001b[32m━━━━━━━━━━━━━━━━━━━━\u001b[0m\u001b[37m\u001b[0m \u001b[1m16s\u001b[0m 42ms/step - image1_output_accuracy: 0.8588 - image1_output_loss: 3.5512e-04 - image2_output_accuracy: 0.6243 - image2_output_loss: 3.7517e-04 - loss: 7.3029e-04 - val_image1_output_accuracy: 0.8585 - val_image1_output_loss: 3.7536e-04 - val_image2_output_accuracy: 0.6271 - val_image2_output_loss: 3.9890e-04 - val_loss: 7.7426e-04 - learning_rate: 2.5600e-05\n",
            "Epoch 74/200\n",
            "\u001b[1m375/375\u001b[0m \u001b[32m━━━━━━━━━━━━━━━━━━━━\u001b[0m\u001b[37m\u001b[0m \u001b[1m16s\u001b[0m 43ms/step - image1_output_accuracy: 0.8589 - image1_output_loss: 3.5640e-04 - image2_output_accuracy: 0.6259 - image2_output_loss: 3.7594e-04 - loss: 7.3234e-04 - val_image1_output_accuracy: 0.8592 - val_image1_output_loss: 3.6538e-04 - val_image2_output_accuracy: 0.6266 - val_image2_output_loss: 3.8245e-04 - val_loss: 7.4783e-04 - learning_rate: 2.5600e-05\n",
            "Epoch 75/200\n",
            "\u001b[1m375/375\u001b[0m \u001b[32m━━━━━━━━━━━━━━━━━━━━\u001b[0m\u001b[37m\u001b[0m \u001b[1m16s\u001b[0m 42ms/step - image1_output_accuracy: 0.8587 - image1_output_loss: 3.5698e-04 - image2_output_accuracy: 0.6258 - image2_output_loss: 3.7879e-04 - loss: 7.3577e-04 - val_image1_output_accuracy: 0.8581 - val_image1_output_loss: 3.6921e-04 - val_image2_output_accuracy: 0.6236 - val_image2_output_loss: 3.8664e-04 - val_loss: 7.5585e-04 - learning_rate: 2.5600e-05\n",
            "Epoch 76/200\n",
            "\u001b[1m375/375\u001b[0m \u001b[32m━━━━━━━━━━━━━━━━━━━━\u001b[0m\u001b[37m\u001b[0m \u001b[1m16s\u001b[0m 42ms/step - image1_output_accuracy: 0.8585 - image1_output_loss: 3.5209e-04 - image2_output_accuracy: 0.6260 - image2_output_loss: 3.7256e-04 - loss: 7.2464e-04 - val_image1_output_accuracy: 0.8594 - val_image1_output_loss: 3.7208e-04 - val_image2_output_accuracy: 0.6246 - val_image2_output_loss: 3.9115e-04 - val_loss: 7.6323e-04 - learning_rate: 2.5600e-05\n",
            "Epoch 77/200\n",
            "\u001b[1m375/375\u001b[0m \u001b[32m━━━━━━━━━━━━━━━━━━━━\u001b[0m\u001b[37m\u001b[0m \u001b[1m16s\u001b[0m 42ms/step - image1_output_accuracy: 0.8591 - image1_output_loss: 3.5127e-04 - image2_output_accuracy: 0.6261 - image2_output_loss: 3.7024e-04 - loss: 7.2151e-04 - val_image1_output_accuracy: 0.8590 - val_image1_output_loss: 3.7195e-04 - val_image2_output_accuracy: 0.6249 - val_image2_output_loss: 3.9141e-04 - val_loss: 7.6337e-04 - learning_rate: 2.5600e-05\n",
            "Epoch 78/200\n",
            "\u001b[1m375/375\u001b[0m \u001b[32m━━━━━━━━━━━━━━━━━━━━\u001b[0m\u001b[37m\u001b[0m \u001b[1m0s\u001b[0m 39ms/step - image1_output_accuracy: 0.8590 - image1_output_loss: 3.5409e-04 - image2_output_accuracy: 0.6249 - image2_output_loss: 3.7469e-04 - loss: 7.2878e-04\n",
            "Epoch 78: ReduceLROnPlateau reducing learning rate to 1.0240000847261399e-05.\n",
            "\u001b[1m375/375\u001b[0m \u001b[32m━━━━━━━━━━━━━━━━━━━━\u001b[0m\u001b[37m\u001b[0m \u001b[1m16s\u001b[0m 42ms/step - image1_output_accuracy: 0.8590 - image1_output_loss: 3.5409e-04 - image2_output_accuracy: 0.6249 - image2_output_loss: 3.7470e-04 - loss: 7.2879e-04 - val_image1_output_accuracy: 0.8584 - val_image1_output_loss: 3.7412e-04 - val_image2_output_accuracy: 0.6247 - val_image2_output_loss: 3.8993e-04 - val_loss: 7.6405e-04 - learning_rate: 2.5600e-05\n",
            "Epoch 79/200\n",
            "\u001b[1m375/375\u001b[0m \u001b[32m━━━━━━━━━━━━━━━━━━━━\u001b[0m\u001b[37m\u001b[0m \u001b[1m16s\u001b[0m 42ms/step - image1_output_accuracy: 0.8589 - image1_output_loss: 3.5396e-04 - image2_output_accuracy: 0.6258 - image2_output_loss: 3.7363e-04 - loss: 7.2759e-04 - val_image1_output_accuracy: 0.8591 - val_image1_output_loss: 3.6751e-04 - val_image2_output_accuracy: 0.6242 - val_image2_output_loss: 3.8398e-04 - val_loss: 7.5150e-04 - learning_rate: 1.0240e-05\n",
            "Epoch 80/200\n",
            "\u001b[1m375/375\u001b[0m \u001b[32m━━━━━━━━━━━━━━━━━━━━\u001b[0m\u001b[37m\u001b[0m \u001b[1m16s\u001b[0m 42ms/step - image1_output_accuracy: 0.8590 - image1_output_loss: 3.5447e-04 - image2_output_accuracy: 0.6252 - image2_output_loss: 3.7437e-04 - loss: 7.2883e-04 - val_image1_output_accuracy: 0.8594 - val_image1_output_loss: 3.6631e-04 - val_image2_output_accuracy: 0.6262 - val_image2_output_loss: 3.8272e-04 - val_loss: 7.4904e-04 - learning_rate: 1.0240e-05\n",
            "Epoch 81/200\n",
            "\u001b[1m375/375\u001b[0m \u001b[32m━━━━━━━━━━━━━━━━━━━━\u001b[0m\u001b[37m\u001b[0m \u001b[1m16s\u001b[0m 42ms/step - image1_output_accuracy: 0.8586 - image1_output_loss: 3.5395e-04 - image2_output_accuracy: 0.6244 - image2_output_loss: 3.7230e-04 - loss: 7.2625e-04 - val_image1_output_accuracy: 0.8591 - val_image1_output_loss: 3.7160e-04 - val_image2_output_accuracy: 0.6233 - val_image2_output_loss: 3.8862e-04 - val_loss: 7.6022e-04 - learning_rate: 1.0240e-05\n",
            "Epoch 82/200\n",
            "\u001b[1m375/375\u001b[0m \u001b[32m━━━━━━━━━━━━━━━━━━━━\u001b[0m\u001b[37m\u001b[0m \u001b[1m16s\u001b[0m 43ms/step - image1_output_accuracy: 0.8587 - image1_output_loss: 3.5845e-04 - image2_output_accuracy: 0.6257 - image2_output_loss: 3.7925e-04 - loss: 7.3770e-04 - val_image1_output_accuracy: 0.8584 - val_image1_output_loss: 3.6349e-04 - val_image2_output_accuracy: 0.6231 - val_image2_output_loss: 3.7969e-04 - val_loss: 7.4318e-04 - learning_rate: 1.0240e-05\n",
            "Epoch 83/200\n",
            "\u001b[1m375/375\u001b[0m \u001b[32m━━━━━━━━━━━━━━━━━━━━\u001b[0m\u001b[37m\u001b[0m \u001b[1m16s\u001b[0m 42ms/step - image1_output_accuracy: 0.8587 - image1_output_loss: 3.5103e-04 - image2_output_accuracy: 0.6253 - image2_output_loss: 3.7049e-04 - loss: 7.2152e-04 - val_image1_output_accuracy: 0.8593 - val_image1_output_loss: 3.7003e-04 - val_image2_output_accuracy: 0.6269 - val_image2_output_loss: 3.8625e-04 - val_loss: 7.5628e-04 - learning_rate: 1.0240e-05\n",
            "Epoch 84/200\n",
            "\u001b[1m375/375\u001b[0m \u001b[32m━━━━━━━━━━━━━━━━━━━━\u001b[0m\u001b[37m\u001b[0m \u001b[1m16s\u001b[0m 42ms/step - image1_output_accuracy: 0.8585 - image1_output_loss: 3.5131e-04 - image2_output_accuracy: 0.6255 - image2_output_loss: 3.7156e-04 - loss: 7.2287e-04 - val_image1_output_accuracy: 0.8588 - val_image1_output_loss: 3.7131e-04 - val_image2_output_accuracy: 0.6255 - val_image2_output_loss: 3.8533e-04 - val_loss: 7.5664e-04 - learning_rate: 1.0240e-05\n",
            "Epoch 85/200\n",
            "\u001b[1m375/375\u001b[0m \u001b[32m━━━━━━━━━━━━━━━━━━━━\u001b[0m\u001b[37m\u001b[0m \u001b[1m16s\u001b[0m 42ms/step - image1_output_accuracy: 0.8589 - image1_output_loss: 3.5306e-04 - image2_output_accuracy: 0.6248 - image2_output_loss: 3.7145e-04 - loss: 7.2450e-04 - val_image1_output_accuracy: 0.8594 - val_image1_output_loss: 3.7105e-04 - val_image2_output_accuracy: 0.6249 - val_image2_output_loss: 3.8815e-04 - val_loss: 7.5920e-04 - learning_rate: 1.0240e-05\n",
            "Epoch 86/200\n",
            "\u001b[1m375/375\u001b[0m \u001b[32m━━━━━━━━━━━━━━━━━━━━\u001b[0m\u001b[37m\u001b[0m \u001b[1m0s\u001b[0m 39ms/step - image1_output_accuracy: 0.8589 - image1_output_loss: 3.5362e-04 - image2_output_accuracy: 0.6232 - image2_output_loss: 3.7272e-04 - loss: 7.2634e-04\n",
            "Epoch 86: ReduceLROnPlateau reducing learning rate to 4.09600033890456e-06.\n",
            "\u001b[1m375/375\u001b[0m \u001b[32m━━━━━━━━━━━━━━━━━━━━\u001b[0m\u001b[37m\u001b[0m \u001b[1m16s\u001b[0m 42ms/step - image1_output_accuracy: 0.8589 - image1_output_loss: 3.5363e-04 - image2_output_accuracy: 0.6232 - image2_output_loss: 3.7273e-04 - loss: 7.2635e-04 - val_image1_output_accuracy: 0.8589 - val_image1_output_loss: 3.6574e-04 - val_image2_output_accuracy: 0.6254 - val_image2_output_loss: 3.8141e-04 - val_loss: 7.4714e-04 - learning_rate: 1.0240e-05\n",
            "Epoch 87/200\n",
            "\u001b[1m375/375\u001b[0m \u001b[32m━━━━━━━━━━━━━━━━━━━━\u001b[0m\u001b[37m\u001b[0m \u001b[1m16s\u001b[0m 43ms/step - image1_output_accuracy: 0.8590 - image1_output_loss: 3.5518e-04 - image2_output_accuracy: 0.6245 - image2_output_loss: 3.7492e-04 - loss: 7.3010e-04 - val_image1_output_accuracy: 0.8586 - val_image1_output_loss: 3.6273e-04 - val_image2_output_accuracy: 0.6245 - val_image2_output_loss: 3.7788e-04 - val_loss: 7.4061e-04 - learning_rate: 4.0960e-06\n",
            "Epoch 88/200\n",
            "\u001b[1m375/375\u001b[0m \u001b[32m━━━━━━━━━━━━━━━━━━━━\u001b[0m\u001b[37m\u001b[0m \u001b[1m16s\u001b[0m 42ms/step - image1_output_accuracy: 0.8589 - image1_output_loss: 3.5218e-04 - image2_output_accuracy: 0.6268 - image2_output_loss: 3.7144e-04 - loss: 7.2362e-04 - val_image1_output_accuracy: 0.8593 - val_image1_output_loss: 3.6754e-04 - val_image2_output_accuracy: 0.6255 - val_image2_output_loss: 3.8408e-04 - val_loss: 7.5162e-04 - learning_rate: 4.0960e-06\n",
            "Epoch 89/200\n",
            "\u001b[1m375/375\u001b[0m \u001b[32m━━━━━━━━━━━━━━━━━━━━\u001b[0m\u001b[37m\u001b[0m \u001b[1m16s\u001b[0m 42ms/step - image1_output_accuracy: 0.8585 - image1_output_loss: 3.5147e-04 - image2_output_accuracy: 0.6242 - image2_output_loss: 3.7175e-04 - loss: 7.2322e-04 - val_image1_output_accuracy: 0.8588 - val_image1_output_loss: 3.6409e-04 - val_image2_output_accuracy: 0.6253 - val_image2_output_loss: 3.8071e-04 - val_loss: 7.4480e-04 - learning_rate: 4.0960e-06\n",
            "Epoch 90/200\n",
            "\u001b[1m375/375\u001b[0m \u001b[32m━━━━━━━━━━━━━━━━━━━━\u001b[0m\u001b[37m\u001b[0m \u001b[1m16s\u001b[0m 43ms/step - image1_output_accuracy: 0.8588 - image1_output_loss: 3.5703e-04 - image2_output_accuracy: 0.6248 - image2_output_loss: 3.7549e-04 - loss: 7.3251e-04 - val_image1_output_accuracy: 0.8589 - val_image1_output_loss: 3.6143e-04 - val_image2_output_accuracy: 0.6251 - val_image2_output_loss: 3.7782e-04 - val_loss: 7.3925e-04 - learning_rate: 4.0960e-06\n",
            "Epoch 91/200\n",
            "\u001b[1m375/375\u001b[0m \u001b[32m━━━━━━━━━━━━━━━━━━━━\u001b[0m\u001b[37m\u001b[0m \u001b[1m16s\u001b[0m 42ms/step - image1_output_accuracy: 0.8580 - image1_output_loss: 3.5379e-04 - image2_output_accuracy: 0.6256 - image2_output_loss: 3.7288e-04 - loss: 7.2667e-04 - val_image1_output_accuracy: 0.8588 - val_image1_output_loss: 3.6622e-04 - val_image2_output_accuracy: 0.6242 - val_image2_output_loss: 3.8250e-04 - val_loss: 7.4872e-04 - learning_rate: 4.0960e-06\n",
            "Epoch 92/200\n",
            "\u001b[1m375/375\u001b[0m \u001b[32m━━━━━━━━━━━━━━━━━━━━\u001b[0m\u001b[37m\u001b[0m \u001b[1m16s\u001b[0m 42ms/step - image1_output_accuracy: 0.8582 - image1_output_loss: 3.5408e-04 - image2_output_accuracy: 0.6257 - image2_output_loss: 3.7347e-04 - loss: 7.2755e-04 - val_image1_output_accuracy: 0.8586 - val_image1_output_loss: 3.7732e-04 - val_image2_output_accuracy: 0.6244 - val_image2_output_loss: 3.9383e-04 - val_loss: 7.7115e-04 - learning_rate: 4.0960e-06\n",
            "Epoch 93/200\n",
            "\u001b[1m375/375\u001b[0m \u001b[32m━━━━━━━━━━━━━━━━━━━━\u001b[0m\u001b[37m\u001b[0m \u001b[1m16s\u001b[0m 42ms/step - image1_output_accuracy: 0.8586 - image1_output_loss: 3.5199e-04 - image2_output_accuracy: 0.6252 - image2_output_loss: 3.7162e-04 - loss: 7.2362e-04 - val_image1_output_accuracy: 0.8593 - val_image1_output_loss: 3.6423e-04 - val_image2_output_accuracy: 0.6257 - val_image2_output_loss: 3.8064e-04 - val_loss: 7.4487e-04 - learning_rate: 4.0960e-06\n",
            "Epoch 94/200\n",
            "\u001b[1m375/375\u001b[0m \u001b[32m━━━━━━━━━━━━━━━━━━━━\u001b[0m\u001b[37m\u001b[0m \u001b[1m0s\u001b[0m 39ms/step - image1_output_accuracy: 0.8591 - image1_output_loss: 3.5258e-04 - image2_output_accuracy: 0.6258 - image2_output_loss: 3.7136e-04 - loss: 7.2394e-04\n",
            "Epoch 94: ReduceLROnPlateau reducing learning rate to 1.6384001355618238e-06.\n",
            "\u001b[1m375/375\u001b[0m \u001b[32m━━━━━━━━━━━━━━━━━━━━\u001b[0m\u001b[37m\u001b[0m \u001b[1m16s\u001b[0m 42ms/step - image1_output_accuracy: 0.8591 - image1_output_loss: 3.5258e-04 - image2_output_accuracy: 0.6258 - image2_output_loss: 3.7136e-04 - loss: 7.2394e-04 - val_image1_output_accuracy: 0.8593 - val_image1_output_loss: 3.6530e-04 - val_image2_output_accuracy: 0.6244 - val_image2_output_loss: 3.8253e-04 - val_loss: 7.4782e-04 - learning_rate: 4.0960e-06\n",
            "Epoch 95/200\n",
            "\u001b[1m375/375\u001b[0m \u001b[32m━━━━━━━━━━━━━━━━━━━━\u001b[0m\u001b[37m\u001b[0m \u001b[1m16s\u001b[0m 42ms/step - image1_output_accuracy: 0.8585 - image1_output_loss: 3.5483e-04 - image2_output_accuracy: 0.6253 - image2_output_loss: 3.7314e-04 - loss: 7.2797e-04 - val_image1_output_accuracy: 0.8589 - val_image1_output_loss: 3.6654e-04 - val_image2_output_accuracy: 0.6262 - val_image2_output_loss: 3.8199e-04 - val_loss: 7.4854e-04 - learning_rate: 1.6384e-06\n",
            "Epoch 96/200\n",
            "\u001b[1m375/375\u001b[0m \u001b[32m━━━━━━━━━━━━━━━━━━━━\u001b[0m\u001b[37m\u001b[0m \u001b[1m16s\u001b[0m 42ms/step - image1_output_accuracy: 0.8588 - image1_output_loss: 3.5569e-04 - image2_output_accuracy: 0.6245 - image2_output_loss: 3.7420e-04 - loss: 7.2989e-04 - val_image1_output_accuracy: 0.8595 - val_image1_output_loss: 3.6747e-04 - val_image2_output_accuracy: 0.6254 - val_image2_output_loss: 3.8259e-04 - val_loss: 7.5006e-04 - learning_rate: 1.6384e-06\n",
            "Epoch 97/200\n",
            "\u001b[1m375/375\u001b[0m \u001b[32m━━━━━━━━━━━━━━━━━━━━\u001b[0m\u001b[37m\u001b[0m \u001b[1m16s\u001b[0m 42ms/step - image1_output_accuracy: 0.8589 - image1_output_loss: 3.5061e-04 - image2_output_accuracy: 0.6241 - image2_output_loss: 3.6903e-04 - loss: 7.1964e-04 - val_image1_output_accuracy: 0.8592 - val_image1_output_loss: 3.7357e-04 - val_image2_output_accuracy: 0.6253 - val_image2_output_loss: 3.8987e-04 - val_loss: 7.6343e-04 - learning_rate: 1.6384e-06\n",
            "Epoch 98/200\n",
            "\u001b[1m375/375\u001b[0m \u001b[32m━━━━━━━━━━━━━━━━━━━━\u001b[0m\u001b[37m\u001b[0m \u001b[1m0s\u001b[0m 39ms/step - image1_output_accuracy: 0.8586 - image1_output_loss: 3.5363e-04 - image2_output_accuracy: 0.6259 - image2_output_loss: 3.7389e-04 - loss: 7.2751e-04\n",
            "Epoch 98: ReduceLROnPlateau reducing learning rate to 1e-06.\n",
            "\u001b[1m375/375\u001b[0m \u001b[32m━━━━━━━━━━━━━━━━━━━━\u001b[0m\u001b[37m\u001b[0m \u001b[1m16s\u001b[0m 42ms/step - image1_output_accuracy: 0.8586 - image1_output_loss: 3.5363e-04 - image2_output_accuracy: 0.6259 - image2_output_loss: 3.7389e-04 - loss: 7.2752e-04 - val_image1_output_accuracy: 0.8587 - val_image1_output_loss: 3.7159e-04 - val_image2_output_accuracy: 0.6254 - val_image2_output_loss: 3.8835e-04 - val_loss: 7.5993e-04 - learning_rate: 1.6384e-06\n",
            "Epoch 98: early stopping\n"
          ]
        }
      ],
      "source": [
        "# Fit the model for 200 epochs\n",
        "# Using the EarlyStopping, ReduceLROnPlateau, and ModelCheckpoint callbacks\n",
        "history = UNET_model.fit(\n",
        "    datagenerator(mnist_X_tr,fash_X_tr, batch_size),\n",
        "    steps_per_epoch=steps_per_epoch,\n",
        "    validation_data=datagenerator(mnist_X_val, fash_X_val, batch_size),\n",
        "    validation_steps=validation_steps,\n",
        "    epochs=200,\n",
        "    callbacks=[early_stopping, reduce_lr, check_ponit]\n",
        ")"
      ]
    },
    {
      "cell_type": "markdown",
      "metadata": {
        "id": "3Ym9bxzfNxom"
      },
      "source": [
        "### Visualizing training loss and validation loss"
      ]
    },
    {
      "cell_type": "code",
      "execution_count": null,
      "metadata": {
        "colab": {
          "base_uri": "https://localhost:8080/",
          "height": 430
        },
        "id": "tD4x9Wz8fxxn",
        "outputId": "8f929ba9-b1b8-4fdb-ed94-e3b49685f76f"
      },
      "outputs": [
        {
          "data": {
            "image/png": "[encoded data removed]",
            "text/plain": [
              "<Figure size 640x480 with 1 Axes>"
            ]
          },
          "metadata": {},
          "output_type": "display_data"
        }
      ],
      "source": [
        "\n",
        "plt.plot(history.history['loss'], color='b', label=\"Training loss\")\n",
        "plt.plot(history.history['val_loss'], color='r', label=\"validation loss\")\n",
        "legend = plt.legend(loc='best', shadow=True)\n",
        "\n",
        "plt.show()"
      ]
    },
    {
      "cell_type": "markdown",
      "metadata": {
        "id": "fQxEu01n2yYX"
      },
      "source": [
        "The graph shows the training (blue) and validation (red) loss decreasing and leveling off at similar values, indicating the model is learning well without overfitting. This suggests the model performs consistently on both the training and validation data, showing good generalization and effective learning."
      ]
    },
    {
      "cell_type": "markdown",
      "metadata": {
        "id": "lO0l50Z9W9c-"
      },
      "source": [
        "# Model evalaution\n",
        "\n",
        "Let us define the test generator."
      ]
    },
    {
      "cell_type": "code",
      "execution_count": null,
      "metadata": {
        "id": "4Qrl40WWJrwV"
      },
      "outputs": [],
      "source": [
        "#test generator\n",
        "testgen = datagenerator(mnist_x_test,fashion_mnist_x_test,5000)\n",
        "\n",
        "eval_samples_x, (eval_samples_y1, eval_sample2) = next(testgen)"
      ]
    },
    {
      "cell_type": "code",
      "execution_count": null,
      "metadata": {
        "id": "xNwNVjev8omY"
      },
      "outputs": [],
      "source": [
        "# Returning the output of the UNet model for the input x\n",
        "def Umodel_pr(x):\n",
        "  pred1, pred2 = UNET_model.predict(x)\n",
        "  return(np.squeeze(pred1),np.squeeze(pred2))"
      ]
    },
    {
      "cell_type": "code",
      "execution_count": null,
      "metadata": {
        "id": "8W7k_wCHYj_d"
      },
      "outputs": [],
      "source": [
        "def eval_model(model):\n",
        "\n",
        "  x, (y1,y2) = next(testgen)\n",
        "  pred1,pred2 = model(x)\n",
        "  return (np.mean((pred1-y1)**2) + np.mean((pred2-y2)**2) / 2)"
      ]
    },
    {
      "cell_type": "code",
      "execution_count": null,
      "metadata": {
        "colab": {
          "base_uri": "https://localhost:8080/"
        },
        "id": "5POBTKgv8j0z",
        "outputId": "7f33ec39-3620-45f5-9bb5-dc070514416f"
      },
      "outputs": [
        {
          "name": "stdout",
          "output_type": "stream",
          "text": [
            "\u001b[1m157/157\u001b[0m \u001b[32m━━━━━━━━━━━━━━━━━━━━\u001b[0m\u001b[37m\u001b[0m \u001b[1m4s\u001b[0m 13ms/step\n",
            "\u001b[1m157/157\u001b[0m \u001b[32m━━━━━━━━━━━━━━━━━━━━\u001b[0m\u001b[37m\u001b[0m \u001b[1m1s\u001b[0m 4ms/step\n",
            "\u001b[1m157/157\u001b[0m \u001b[32m━━━━━━━━━━━━━━━━━━━━\u001b[0m\u001b[37m\u001b[0m \u001b[1m1s\u001b[0m 4ms/step\n",
            "\u001b[1m157/157\u001b[0m \u001b[32m━━━━━━━━━━━━━━━━━━━━\u001b[0m\u001b[37m\u001b[0m \u001b[1m1s\u001b[0m 4ms/step\n",
            "\u001b[1m157/157\u001b[0m \u001b[32m━━━━━━━━━━━━━━━━━━━━\u001b[0m\u001b[37m\u001b[0m \u001b[1m1s\u001b[0m 3ms/step\n",
            "\u001b[1m157/157\u001b[0m \u001b[32m━━━━━━━━━━━━━━━━━━━━\u001b[0m\u001b[37m\u001b[0m \u001b[1m1s\u001b[0m 3ms/step\n",
            "\u001b[1m157/157\u001b[0m \u001b[32m━━━━━━━━━━━━━━━━━━━━\u001b[0m\u001b[37m\u001b[0m \u001b[1m1s\u001b[0m 3ms/step\n",
            "\u001b[1m157/157\u001b[0m \u001b[32m━━━━━━━━━━━━━━━━━━━━\u001b[0m\u001b[37m\u001b[0m \u001b[1m1s\u001b[0m 3ms/step\n",
            "\u001b[1m157/157\u001b[0m \u001b[32m━━━━━━━━━━━━━━━━━━━━\u001b[0m\u001b[37m\u001b[0m \u001b[1m1s\u001b[0m 3ms/step\n",
            "\u001b[1m157/157\u001b[0m \u001b[32m━━━━━━━━━━━━━━━━━━━━\u001b[0m\u001b[37m\u001b[0m \u001b[1m1s\u001b[0m 3ms/step\n",
            "mse =  0.0005563156897254335\n",
            "standard deviation =  7.039705877823854e-06\n"
          ]
        }
      ],
      "source": [
        "repeat_eval = 10\n",
        "eval_results = []\n",
        "for i in range(repeat_eval):\n",
        "  eval_results.append(eval_model(Umodel_pr))\n",
        "print(\"mse = \", np.mean(eval_results))\n",
        "print(\"standard deviation = \", np.std(eval_results))"
      ]
    }
  ],
  "metadata": {
    "accelerator": "GPU",
    "colab": {
      "gpuType": "A100",
      "machine_shape": "hm",
      "provenance": [],
      "include_colab_link": true
    },
    "kernelspec": {
      "display_name": "Python 3",
      "name": "python3"
    },
    "language_info": {
      "name": "python"
    }
  },
  "nbformat": 4,
  "nbformat_minor": 0
}